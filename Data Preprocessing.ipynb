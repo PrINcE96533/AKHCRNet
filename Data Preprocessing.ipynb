{
 "cells": [
  {
   "cell_type": "code",
   "execution_count": 1,
   "metadata": {},
   "outputs": [],
   "source": [
    "import numpy as np\n",
    "import pandas as pd\n",
    "import os\n",
    "import glob\n",
    "import cv2\n",
    "from matplotlib import pyplot as plt"
   ]
  },
  {
   "cell_type": "code",
   "execution_count": 2,
   "metadata": {},
   "outputs": [
    {
     "data": {
      "text/plain": [
       "'/Users/royakash/Documents/GitHub/AKHCRNetV1'"
      ]
     },
     "execution_count": 2,
     "metadata": {},
     "output_type": "execute_result"
    }
   ],
   "source": [
    "os.getcwd()"
   ]
  },
  {
   "cell_type": "code",
   "execution_count": 3,
   "metadata": {},
   "outputs": [],
   "source": [
    "import tensorflow as tf\n",
    "import numpy as np\n",
    "from matplotlib import pyplot as plt\n",
    "\n",
    "# Backend stuff\n",
    "from tensorflow import keras\n",
    "from tensorflow.keras import backend\n",
    "\n",
    "# Layers stuff and model stuff\n",
    "from tensorflow.keras.models import Model\n",
    "from tensorflow.keras.layers import Input, Conv2D, MaxPooling2D, BatchNormalization, Dense, Dropout, Flatten, Activation, Concatenate, Lambda\n",
    "\n",
    "# Callbacks stuff\n",
    "from tensorflow.keras.callbacks import EarlyStopping, ModelCheckpoint, ReduceLROnPlateau\n",
    "\n",
    "# Optimizers stuff\n",
    "from tensorflow.keras.optimizers import Adam\n",
    "from tensorflow.keras import regularizers, activations\n",
    "\n",
    "from tensorflow.keras import preprocessing as preprocess"
   ]
  },
  {
   "cell_type": "code",
   "execution_count": 4,
   "metadata": {},
   "outputs": [
    {
     "data": {
      "text/plain": [
       "'2.2.0-dev20200429'"
      ]
     },
     "execution_count": 4,
     "metadata": {},
     "output_type": "execute_result"
    }
   ],
   "source": [
    "tf.__version__"
   ]
  },
  {
   "cell_type": "code",
   "execution_count": 5,
   "metadata": {},
   "outputs": [
    {
     "name": "stdout",
     "output_type": "stream",
     "text": [
      "Found 166105 files belonging to 84 classes.\n"
     ]
    }
   ],
   "source": [
    "dataset = preprocess.image_dataset_from_directory('/Users/royakash/Desktop/Research/Images', image_size = (100,100), batch_size = 40)\n",
    "\n",
    "# for data, labels in dataset:\n",
    "#     print(data.shape)\n",
    "#     print(data.dtype)\n",
    "#     print(labels.shape)\n",
    "#     print(labels.dtype)"
   ]
  },
  {
   "cell_type": "code",
   "execution_count": 18,
   "metadata": {},
   "outputs": [
    {
     "name": "stdout",
     "output_type": "stream",
     "text": [
      "Found 166105 images belonging to 84 classes.\n"
     ]
    }
   ],
   "source": [
    "# from tensorflow.keras.preprocessing.image import ImageDataGenerator\n",
    "\n",
    "# train_datagen = ImageDataGenerator(\n",
    "#       rescale=1./255,\n",
    "#       rotation_range=40,\n",
    "#       width_shift_range=0.2,\n",
    "#       height_shift_range=0.2,\n",
    "#       shear_range=0.2,\n",
    "#       zoom_range=0.2,\n",
    "#       horizontal_flip=False,  # No body flips a handwritten character\n",
    "#       fill_mode='nearest'\n",
    "# )\n",
    "\n",
    "# train_generator = train_datagen.flow_from_directory(\n",
    "#         '/Users/royakash/Desktop/Research/Images',\n",
    "#         target_size=(80, 80),\n",
    "#         class_mode='categorical'\n",
    "# )"
   ]
  },
  {
   "cell_type": "code",
   "execution_count": 41,
   "metadata": {},
   "outputs": [
    {
     "data": {
      "text/plain": [
       "<BatchDataset shapes: ((None, 100, 100, None), (None,)), types: (tf.float32, tf.int32)>"
      ]
     },
     "execution_count": 41,
     "metadata": {},
     "output_type": "execute_result"
    }
   ],
   "source": [
    "dataset"
   ]
  },
  {
   "cell_type": "code",
   "execution_count": 15,
   "metadata": {},
   "outputs": [],
   "source": [
    "dataset\n",
    "\n",
    "data = []\n",
    "labels= []\n",
    "\n",
    "for datum, label in dataset:\n",
    "    data.append(datum)\n",
    "    labels.append(label)"
   ]
  },
  {
   "cell_type": "code",
   "execution_count": 16,
   "metadata": {},
   "outputs": [],
   "source": [
    "with open('datalist.txt', 'w') as filehandle:\n",
    "    for listitem in data:\n",
    "        filehandle.write('%s\\n' % listitem)"
   ]
  },
  {
   "cell_type": "code",
   "execution_count": 17,
   "metadata": {},
   "outputs": [],
   "source": [
    "with open('labellist.txt', 'w') as filehandle:\n",
    "    for listitem in labels:\n",
    "        filehandle.write('%s\\n' % listitem)"
   ]
  },
  {
   "cell_type": "code",
   "execution_count": 40,
   "metadata": {},
   "outputs": [
    {
     "data": {
      "text/plain": [
       "TensorShape([40, 100, 100, 3])"
      ]
     },
     "execution_count": 40,
     "metadata": {},
     "output_type": "execute_result"
    }
   ],
   "source": [
    "data[0].shape"
   ]
  },
  {
   "cell_type": "code",
   "execution_count": 34,
   "metadata": {},
   "outputs": [],
   "source": [
    "model = tf.keras.models.Sequential([\n",
    "    tf.keras.layers.Conv2D(32, (3,3), activation=tf.nn.relu, input_shape=(100, 100, 3)),\n",
    "    tf.keras.layers.MaxPooling2D(2, 2),\n",
    "    tf.keras.layers.Conv2D(64, (3,3), activation=tf.nn.relu),\n",
    "    tf.keras.layers.MaxPooling2D(2,2),\n",
    "    tf.keras.layers.Conv2D(128, (3,3), activation=tf.nn.relu),\n",
    "    tf.keras.layers.MaxPooling2D(2,2),\n",
    "    tf.keras.layers.Conv2D(128, (3,3), activation=tf.nn.relu),\n",
    "    tf.keras.layers.MaxPooling2D(2,2),\n",
    "    tf.keras.layers.Flatten(),\n",
    "    tf.keras.layers.Dense(512, activation=tf.nn.relu),\n",
    "    tf.keras.layers.Dense(84, activation=tf.nn.softmax)\n",
    "])"
   ]
  },
  {
   "cell_type": "code",
   "execution_count": 35,
   "metadata": {},
   "outputs": [
    {
     "name": "stdout",
     "output_type": "stream",
     "text": [
      "Model: \"sequential_4\"\n",
      "_________________________________________________________________\n",
      "Layer (type)                 Output Shape              Param #   \n",
      "=================================================================\n",
      "conv2d_16 (Conv2D)           (None, 98, 98, 32)        896       \n",
      "_________________________________________________________________\n",
      "max_pooling2d_16 (MaxPooling (None, 49, 49, 32)        0         \n",
      "_________________________________________________________________\n",
      "conv2d_17 (Conv2D)           (None, 47, 47, 64)        18496     \n",
      "_________________________________________________________________\n",
      "max_pooling2d_17 (MaxPooling (None, 23, 23, 64)        0         \n",
      "_________________________________________________________________\n",
      "conv2d_18 (Conv2D)           (None, 21, 21, 128)       73856     \n",
      "_________________________________________________________________\n",
      "max_pooling2d_18 (MaxPooling (None, 10, 10, 128)       0         \n",
      "_________________________________________________________________\n",
      "conv2d_19 (Conv2D)           (None, 8, 8, 128)         147584    \n",
      "_________________________________________________________________\n",
      "max_pooling2d_19 (MaxPooling (None, 4, 4, 128)         0         \n",
      "_________________________________________________________________\n",
      "flatten_4 (Flatten)          (None, 2048)              0         \n",
      "_________________________________________________________________\n",
      "dense_8 (Dense)              (None, 512)               1049088   \n",
      "_________________________________________________________________\n",
      "dense_9 (Dense)              (None, 84)                43092     \n",
      "=================================================================\n",
      "Total params: 1,333,012\n",
      "Trainable params: 1,333,012\n",
      "Non-trainable params: 0\n",
      "_________________________________________________________________\n"
     ]
    }
   ],
   "source": [
    "model.summary()"
   ]
  },
  {
   "cell_type": "code",
   "execution_count": 36,
   "metadata": {},
   "outputs": [],
   "source": [
    "model.compile(optimizer= Adam(), loss='sparse_categorical_crossentropy', metrics=['accuracy'])"
   ]
  },
  {
   "cell_type": "code",
   "execution_count": 39,
   "metadata": {},
   "outputs": [
    {
     "name": "stdout",
     "output_type": "stream",
     "text": [
      "Epoch 1/30\n",
      "2/2 [==============================] - 0s 67ms/step - loss: 73.4930 - accuracy: 0.0000e+00\n",
      "Epoch 2/30\n",
      "2/2 [==============================] - 0s 72ms/step - loss: 60.4133 - accuracy: 0.0500\n",
      "Epoch 3/30\n",
      "2/2 [==============================] - 0s 65ms/step - loss: 26.2318 - accuracy: 0.2250\n",
      "Epoch 4/30\n",
      "2/2 [==============================] - 0s 68ms/step - loss: 10.5626 - accuracy: 0.1750\n",
      "Epoch 5/30\n",
      "2/2 [==============================] - 0s 75ms/step - loss: 4.9474 - accuracy: 0.2500\n",
      "Epoch 6/30\n",
      "2/2 [==============================] - 0s 67ms/step - loss: 3.1155 - accuracy: 0.3250\n",
      "Epoch 7/30\n",
      "2/2 [==============================] - 0s 69ms/step - loss: 2.5143 - accuracy: 0.4750\n",
      "Epoch 8/30\n",
      "2/2 [==============================] - 0s 70ms/step - loss: 2.2166 - accuracy: 0.5750\n",
      "Epoch 9/30\n",
      "2/2 [==============================] - 0s 74ms/step - loss: 1.7996 - accuracy: 0.7000\n",
      "Epoch 10/30\n",
      "2/2 [==============================] - 0s 70ms/step - loss: 1.3165 - accuracy: 0.7250\n",
      "Epoch 11/30\n",
      "2/2 [==============================] - 0s 72ms/step - loss: 0.8229 - accuracy: 0.8750\n",
      "Epoch 12/30\n",
      "2/2 [==============================] - 0s 75ms/step - loss: 0.4746 - accuracy: 0.9750\n",
      "Epoch 13/30\n",
      "2/2 [==============================] - 0s 65ms/step - loss: 0.2488 - accuracy: 0.9750\n",
      "Epoch 14/30\n",
      "2/2 [==============================] - 0s 71ms/step - loss: 0.1208 - accuracy: 0.9750\n",
      "Epoch 15/30\n",
      "2/2 [==============================] - 0s 73ms/step - loss: 0.0453 - accuracy: 1.0000\n",
      "Epoch 16/30\n",
      "2/2 [==============================] - 0s 75ms/step - loss: 0.0104 - accuracy: 1.0000\n",
      "Epoch 17/30\n",
      "2/2 [==============================] - 0s 73ms/step - loss: 0.0052 - accuracy: 1.0000\n",
      "Epoch 18/30\n",
      "2/2 [==============================] - 0s 75ms/step - loss: 0.0032 - accuracy: 1.0000\n",
      "Epoch 19/30\n",
      "2/2 [==============================] - 0s 70ms/step - loss: 0.0025 - accuracy: 1.0000\n",
      "Epoch 20/30\n",
      "2/2 [==============================] - 0s 95ms/step - loss: 0.0020 - accuracy: 1.0000\n",
      "Epoch 21/30\n",
      "2/2 [==============================] - 0s 80ms/step - loss: 0.0014 - accuracy: 1.0000\n",
      "Epoch 22/30\n",
      "2/2 [==============================] - 0s 75ms/step - loss: 9.1837e-04 - accuracy: 1.0000\n",
      "Epoch 23/30\n",
      "2/2 [==============================] - 0s 75ms/step - loss: 5.7749e-04 - accuracy: 1.0000\n",
      "Epoch 24/30\n",
      "2/2 [==============================] - 0s 70ms/step - loss: 3.7217e-04 - accuracy: 1.0000\n",
      "Epoch 25/30\n",
      "2/2 [==============================] - 0s 67ms/step - loss: 2.6478e-04 - accuracy: 1.0000\n",
      "Epoch 26/30\n",
      "2/2 [==============================] - 0s 75ms/step - loss: 1.9940e-04 - accuracy: 1.0000\n",
      "Epoch 27/30\n",
      "2/2 [==============================] - 0s 73ms/step - loss: 1.6337e-04 - accuracy: 1.0000\n",
      "Epoch 28/30\n",
      "2/2 [==============================] - 0s 70ms/step - loss: 1.3083e-04 - accuracy: 1.0000\n",
      "Epoch 29/30\n",
      "2/2 [==============================] - 0s 71ms/step - loss: 1.1342e-04 - accuracy: 1.0000\n",
      "Epoch 30/30\n",
      "2/2 [==============================] - 0s 70ms/step - loss: 9.6754e-05 - accuracy: 1.0000\n"
     ]
    }
   ],
   "source": [
    "history = model.fit(data[0], labels[0], epochs=30)"
   ]
  },
  {
   "cell_type": "code",
   "execution_count": null,
   "metadata": {},
   "outputs": [],
   "source": []
  }
 ],
 "metadata": {
  "kernelspec": {
   "display_name": "Python 3.7.6 64-bit",
   "language": "python",
   "name": "python37664bit0a5b81490d9c43e28808e98f6fc55748"
  },
  "language_info": {
   "codemirror_mode": {
    "name": "ipython",
    "version": 3
   },
   "file_extension": ".py",
   "mimetype": "text/x-python",
   "name": "python",
   "nbconvert_exporter": "python",
   "pygments_lexer": "ipython3",
   "version": "3.7.6"
  }
 },
 "nbformat": 4,
 "nbformat_minor": 4
}
