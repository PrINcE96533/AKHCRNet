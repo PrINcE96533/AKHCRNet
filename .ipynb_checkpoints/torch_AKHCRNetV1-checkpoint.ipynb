{
 "cells": [
  {
   "cell_type": "code",
   "execution_count": 1,
   "metadata": {},
   "outputs": [
    {
     "name": "stdout",
     "output_type": "stream",
     "text": [
      "Collecting tqdm\n",
      "  Downloading tqdm-4.45.0-py2.py3-none-any.whl (60 kB)\n",
      "\u001b[K     |████████████████████████████████| 60 kB 537 kB/s eta 0:00:011\n",
      "\u001b[?25hInstalling collected packages: tqdm\n",
      "Successfully installed tqdm-4.45.0\n",
      "\u001b[33mWARNING: You are using pip version 20.0.2; however, version 20.1 is available.\n",
      "You should consider upgrading via the '/Library/Frameworks/Python.framework/Versions/3.7/bin/python3.7 -m pip install --upgrade pip' command.\u001b[0m\n"
     ]
    }
   ],
   "source": [
    "!pip3 install tqdm"
   ]
  },
  {
   "cell_type": "code",
   "execution_count": 7,
   "metadata": {},
   "outputs": [],
   "source": [
    "import torch\n",
    "import numpy as np\n",
    "import os\n",
    "from tqdm import tqdm\n",
    "import cv2"
   ]
  },
  {
   "cell_type": "code",
   "execution_count": 8,
   "metadata": {},
   "outputs": [],
   "source": [
    "BUILDING_data_FLAG = True"
   ]
  },
  {
   "cell_type": "code",
   "execution_count": 9,
   "metadata": {},
   "outputs": [],
   "source": [
    "image_size = 100\n",
    "\n",
    "labels = {}\n",
    "\n",
    "for i in range(84):\n",
    "    labels[f'/Users/royakash/Desktop/Research/Images/{i+1}'] = i"
   ]
  },
  {
   "cell_type": "code",
   "execution_count": 10,
   "metadata": {
    "collapsed": true,
    "jupyter": {
     "outputs_hidden": true
    }
   },
   "outputs": [
    {
     "name": "stdout",
     "output_type": "stream",
     "text": [
      "/Users/royakash/Desktop/Research/Images/1\n",
      "/Users/royakash/Desktop/Research/Images/2\n",
      "/Users/royakash/Desktop/Research/Images/3\n",
      "/Users/royakash/Desktop/Research/Images/4\n",
      "/Users/royakash/Desktop/Research/Images/5\n",
      "/Users/royakash/Desktop/Research/Images/6\n",
      "/Users/royakash/Desktop/Research/Images/7\n",
      "/Users/royakash/Desktop/Research/Images/8\n",
      "/Users/royakash/Desktop/Research/Images/9\n",
      "/Users/royakash/Desktop/Research/Images/10\n",
      "/Users/royakash/Desktop/Research/Images/11\n",
      "/Users/royakash/Desktop/Research/Images/12\n",
      "/Users/royakash/Desktop/Research/Images/13\n",
      "/Users/royakash/Desktop/Research/Images/14\n",
      "/Users/royakash/Desktop/Research/Images/15\n",
      "/Users/royakash/Desktop/Research/Images/16\n",
      "/Users/royakash/Desktop/Research/Images/17\n",
      "/Users/royakash/Desktop/Research/Images/18\n",
      "/Users/royakash/Desktop/Research/Images/19\n",
      "/Users/royakash/Desktop/Research/Images/20\n",
      "/Users/royakash/Desktop/Research/Images/21\n",
      "/Users/royakash/Desktop/Research/Images/22\n",
      "/Users/royakash/Desktop/Research/Images/23\n",
      "/Users/royakash/Desktop/Research/Images/24\n",
      "/Users/royakash/Desktop/Research/Images/25\n",
      "/Users/royakash/Desktop/Research/Images/26\n",
      "/Users/royakash/Desktop/Research/Images/27\n",
      "/Users/royakash/Desktop/Research/Images/28\n",
      "/Users/royakash/Desktop/Research/Images/29\n",
      "/Users/royakash/Desktop/Research/Images/30\n",
      "/Users/royakash/Desktop/Research/Images/31\n",
      "/Users/royakash/Desktop/Research/Images/32\n",
      "/Users/royakash/Desktop/Research/Images/33\n",
      "/Users/royakash/Desktop/Research/Images/34\n",
      "/Users/royakash/Desktop/Research/Images/35\n",
      "/Users/royakash/Desktop/Research/Images/36\n",
      "/Users/royakash/Desktop/Research/Images/37\n",
      "/Users/royakash/Desktop/Research/Images/38\n",
      "/Users/royakash/Desktop/Research/Images/39\n",
      "/Users/royakash/Desktop/Research/Images/40\n",
      "/Users/royakash/Desktop/Research/Images/41\n",
      "/Users/royakash/Desktop/Research/Images/42\n",
      "/Users/royakash/Desktop/Research/Images/43\n",
      "/Users/royakash/Desktop/Research/Images/44\n",
      "/Users/royakash/Desktop/Research/Images/45\n",
      "/Users/royakash/Desktop/Research/Images/46\n",
      "/Users/royakash/Desktop/Research/Images/47\n",
      "/Users/royakash/Desktop/Research/Images/48\n",
      "/Users/royakash/Desktop/Research/Images/49\n",
      "/Users/royakash/Desktop/Research/Images/50\n",
      "/Users/royakash/Desktop/Research/Images/51\n",
      "/Users/royakash/Desktop/Research/Images/52\n",
      "/Users/royakash/Desktop/Research/Images/53\n",
      "/Users/royakash/Desktop/Research/Images/54\n",
      "/Users/royakash/Desktop/Research/Images/55\n",
      "/Users/royakash/Desktop/Research/Images/56\n",
      "/Users/royakash/Desktop/Research/Images/57\n",
      "/Users/royakash/Desktop/Research/Images/58\n",
      "/Users/royakash/Desktop/Research/Images/59\n",
      "/Users/royakash/Desktop/Research/Images/60\n",
      "/Users/royakash/Desktop/Research/Images/61\n",
      "/Users/royakash/Desktop/Research/Images/62\n",
      "/Users/royakash/Desktop/Research/Images/63\n",
      "/Users/royakash/Desktop/Research/Images/64\n",
      "/Users/royakash/Desktop/Research/Images/65\n",
      "/Users/royakash/Desktop/Research/Images/66\n",
      "/Users/royakash/Desktop/Research/Images/67\n",
      "/Users/royakash/Desktop/Research/Images/68\n",
      "/Users/royakash/Desktop/Research/Images/69\n",
      "/Users/royakash/Desktop/Research/Images/70\n",
      "/Users/royakash/Desktop/Research/Images/71\n",
      "/Users/royakash/Desktop/Research/Images/72\n",
      "/Users/royakash/Desktop/Research/Images/73\n",
      "/Users/royakash/Desktop/Research/Images/74\n",
      "/Users/royakash/Desktop/Research/Images/75\n",
      "/Users/royakash/Desktop/Research/Images/76\n",
      "/Users/royakash/Desktop/Research/Images/77\n",
      "/Users/royakash/Desktop/Research/Images/78\n",
      "/Users/royakash/Desktop/Research/Images/79\n",
      "/Users/royakash/Desktop/Research/Images/80\n",
      "/Users/royakash/Desktop/Research/Images/81\n",
      "/Users/royakash/Desktop/Research/Images/82\n",
      "/Users/royakash/Desktop/Research/Images/83\n",
      "/Users/royakash/Desktop/Research/Images/84\n"
     ]
    }
   ],
   "source": [
    "for label in labels:\n",
    "    print(label)"
   ]
  },
  {
   "cell_type": "code",
   "execution_count": 11,
   "metadata": {},
   "outputs": [],
   "source": [
    "training_data = []\n",
    "\n",
    "def make_training_data():\n",
    "    \n",
    "    for label in labels:\n",
    "        \n",
    "        for y in tqdm(os.listdir(label)):\n",
    "            \n",
    "            try:\n",
    "                path = os.path.join(label, y)\n",
    "                img = cv2.imread(path, cv2.IMREAD_GRAYSCALE)\n",
    "                img = cv2.resize(img, (image_size, image_size))\n",
    "\n",
    "                training_data.append([np.array(img), np.eye(84)[labels[label]]])\n",
    "            \n",
    "            except Exception as e:\n",
    "                print(e)\n",
    "                pass\n",
    "    \n",
    "    np.random.shuffle(training_data)\n",
    "    np.save('training_data.npy', training_data)"
   ]
  },
  {
   "cell_type": "code",
   "execution_count": 12,
   "metadata": {},
   "outputs": [
    {
     "name": "stderr",
     "output_type": "stream",
     "text": [
      "100%|██████████| 1975/1975 [00:01<00:00, 1371.41it/s]\n",
      "100%|██████████| 1980/1980 [00:01<00:00, 1289.20it/s]\n",
      "100%|██████████| 1979/1979 [00:01<00:00, 1286.24it/s]\n",
      "100%|██████████| 1982/1982 [00:02<00:00, 928.10it/s]\n",
      "100%|██████████| 1982/1982 [00:02<00:00, 759.64it/s]\n",
      "100%|██████████| 1982/1982 [00:02<00:00, 757.54it/s]\n",
      "100%|██████████| 1971/1971 [00:02<00:00, 879.14it/s]\n",
      "100%|██████████| 1985/1985 [00:01<00:00, 1124.32it/s]\n",
      "100%|██████████| 1984/1984 [00:02<00:00, 932.41it/s]\n",
      "100%|██████████| 1981/1981 [00:01<00:00, 1036.39it/s]\n",
      "100%|██████████| 1982/1982 [00:02<00:00, 986.58it/s] \n",
      "100%|██████████| 1984/1984 [00:01<00:00, 1123.43it/s]\n",
      "100%|██████████| 1969/1969 [00:01<00:00, 1135.74it/s]\n",
      "100%|██████████| 1983/1983 [00:01<00:00, 1148.60it/s]\n",
      "100%|██████████| 1975/1975 [00:01<00:00, 1135.76it/s]\n",
      "100%|██████████| 1980/1980 [00:01<00:00, 1229.27it/s]\n",
      "100%|██████████| 1983/1983 [00:01<00:00, 1216.95it/s]\n",
      "100%|██████████| 1981/1981 [00:01<00:00, 1127.08it/s]\n",
      "100%|██████████| 1980/1980 [00:02<00:00, 924.39it/s] \n",
      "100%|██████████| 1982/1982 [00:03<00:00, 621.13it/s]\n",
      "100%|██████████| 1988/1988 [00:02<00:00, 797.46it/s]\n",
      "100%|██████████| 1977/1977 [00:02<00:00, 842.11it/s]\n",
      "100%|██████████| 1941/1941 [00:02<00:00, 832.87it/s]\n",
      "100%|██████████| 1983/1983 [00:02<00:00, 926.84it/s]\n",
      "100%|██████████| 1977/1977 [00:02<00:00, 911.14it/s] \n",
      "100%|██████████| 1980/1980 [00:02<00:00, 791.53it/s]\n",
      "100%|██████████| 1975/1975 [00:02<00:00, 883.33it/s]\n",
      "100%|██████████| 1977/1977 [00:02<00:00, 870.04it/s]\n",
      "100%|██████████| 1981/1981 [00:02<00:00, 774.57it/s]\n",
      "100%|██████████| 1968/1968 [00:02<00:00, 796.74it/s]\n",
      "100%|██████████| 1983/1983 [00:02<00:00, 962.18it/s]\n",
      "100%|██████████| 1985/1985 [00:02<00:00, 684.48it/s]\n",
      "100%|██████████| 1982/1982 [00:02<00:00, 880.54it/s]\n",
      "100%|██████████| 1983/1983 [00:02<00:00, 790.47it/s]\n",
      "100%|██████████| 1980/1980 [00:02<00:00, 770.86it/s]\n",
      "100%|██████████| 1983/1983 [00:02<00:00, 754.26it/s]\n",
      "100%|██████████| 1985/1985 [00:02<00:00, 742.73it/s]\n",
      "100%|██████████| 1984/1984 [00:02<00:00, 912.90it/s] \n",
      "100%|██████████| 1969/1969 [00:02<00:00, 901.96it/s] \n",
      "100%|██████████| 1979/1979 [00:02<00:00, 925.24it/s]\n",
      "100%|██████████| 1972/1972 [00:01<00:00, 1047.86it/s]\n",
      "100%|██████████| 1981/1981 [00:02<00:00, 753.35it/s]\n",
      "100%|██████████| 1979/1979 [00:02<00:00, 772.71it/s]\n",
      "100%|██████████| 1984/1984 [00:02<00:00, 723.61it/s]\n",
      "100%|██████████| 1969/1969 [00:02<00:00, 935.59it/s] \n",
      "100%|██████████| 1980/1980 [00:02<00:00, 970.82it/s] \n",
      "100%|██████████| 1980/1980 [00:01<00:00, 1032.87it/s]\n",
      "100%|██████████| 1983/1983 [00:02<00:00, 862.51it/s]\n",
      "100%|██████████| 1981/1981 [00:02<00:00, 660.76it/s]\n",
      "100%|██████████| 1981/1981 [00:02<00:00, 753.62it/s]\n",
      "100%|██████████| 1982/1982 [00:02<00:00, 763.98it/s] \n",
      "100%|██████████| 1982/1982 [00:02<00:00, 982.01it/s] \n",
      "100%|██████████| 1953/1953 [00:02<00:00, 753.44it/s]\n",
      "100%|██████████| 1975/1975 [00:02<00:00, 904.78it/s]\n",
      "100%|██████████| 1980/1980 [00:02<00:00, 799.24it/s]\n",
      "100%|██████████| 1986/1986 [00:02<00:00, 753.89it/s]\n",
      "100%|██████████| 1981/1981 [00:02<00:00, 938.03it/s] \n",
      "100%|██████████| 1958/1958 [00:01<00:00, 1050.68it/s]\n",
      "100%|██████████| 1984/1984 [00:01<00:00, 1177.66it/s]\n",
      "100%|██████████| 1967/1967 [00:01<00:00, 1205.44it/s]\n",
      "100%|██████████| 1981/1981 [00:01<00:00, 992.04it/s] \n",
      "100%|██████████| 1980/1980 [00:01<00:00, 1066.51it/s]\n",
      "100%|██████████| 1953/1953 [00:01<00:00, 1066.27it/s]\n",
      "100%|██████████| 1985/1985 [00:01<00:00, 996.01it/s] \n",
      "100%|██████████| 1978/1978 [00:02<00:00, 967.37it/s] \n",
      "100%|██████████| 1978/1978 [00:02<00:00, 927.87it/s]\n",
      "100%|██████████| 1983/1983 [00:02<00:00, 926.77it/s] \n",
      "100%|██████████| 1982/1982 [00:02<00:00, 830.74it/s]\n",
      "100%|██████████| 1985/1985 [00:02<00:00, 943.85it/s] \n",
      "100%|██████████| 1984/1984 [00:02<00:00, 941.80it/s]\n",
      "100%|██████████| 1966/1966 [00:01<00:00, 1002.82it/s]\n",
      "100%|██████████| 1968/1968 [00:01<00:00, 1058.70it/s]\n",
      "100%|██████████| 1985/1985 [00:01<00:00, 1060.85it/s]\n",
      "100%|██████████| 1984/1984 [00:02<00:00, 798.83it/s]\n",
      "100%|██████████| 1965/1965 [00:02<00:00, 840.78it/s]\n",
      "100%|██████████| 1982/1982 [00:01<00:00, 1031.09it/s]\n",
      "100%|██████████| 1940/1940 [00:01<00:00, 1039.42it/s]\n",
      "100%|██████████| 1981/1981 [00:01<00:00, 1046.82it/s]\n",
      "100%|██████████| 1977/1977 [00:01<00:00, 1032.87it/s]\n",
      "100%|██████████| 1980/1980 [00:02<00:00, 936.46it/s]\n",
      "100%|██████████| 1975/1975 [00:01<00:00, 1082.92it/s]\n",
      "100%|██████████| 1978/1978 [00:02<00:00, 916.87it/s] \n",
      "100%|██████████| 1971/1971 [00:02<00:00, 778.49it/s]\n",
      "100%|██████████| 1966/1966 [00:02<00:00, 956.80it/s]\n"
     ]
    }
   ],
   "source": [
    "if BUILDING_data_FLAG:\n",
    "    make_training_data()"
   ]
  },
  {
   "cell_type": "code",
   "execution_count": null,
   "metadata": {},
   "outputs": [],
   "source": []
  }
 ],
 "metadata": {
  "kernelspec": {
   "display_name": "Python 3.7.6 64-bit",
   "language": "python",
   "name": "python37664bit0a5b81490d9c43e28808e98f6fc55748"
  },
  "language_info": {
   "codemirror_mode": {
    "name": "ipython",
    "version": 3
   },
   "file_extension": ".py",
   "mimetype": "text/x-python",
   "name": "python",
   "nbconvert_exporter": "python",
   "pygments_lexer": "ipython3",
   "version": "3.7.6"
  }
 },
 "nbformat": 4,
 "nbformat_minor": 4
}
