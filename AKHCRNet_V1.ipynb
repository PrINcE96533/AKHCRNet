{
  "nbformat": 4,
  "nbformat_minor": 0,
  "metadata": {
    "colab": {
      "name": "AKHCRNet V1.ipynb",
      "provenance": [],
      "collapsed_sections": [],
      "machine_shape": "hm"
    },
    "kernelspec": {
      "name": "python3",
      "display_name": "Python 3"
    },
    "accelerator": "GPU"
  },
  "cells": [
    {
      "cell_type": "markdown",
      "metadata": {
        "id": "7im-0KdrmSl_",
        "colab_type": "text"
      },
      "source": [
        "Deep learning stuff"
      ]
    },
    {
      "cell_type": "code",
      "metadata": {
        "id": "i97eIF8c-icv",
        "colab_type": "code",
        "outputId": "04ce3006-85f9-4928-b533-0da3805b392a",
        "colab": {
          "base_uri": "https://localhost:8080/",
          "height": 34
        }
      },
      "source": [
        "import tensorflow as tf\n",
        "from tensorflow import keras\n",
        "import tensorflow.keras.layers as layers\n",
        "import tensorflow.keras.activations as Actications\n",
        "import tensorflow.keras.models as Models\n",
        "import tensorflow.keras.optimizers as Optimizer\n",
        "import tensorflow.keras.metrics as Metrics\n",
        "import tensorflow.keras.utils as Utils\n",
        "from keras.utils.vis_utils import model_to_dot\n",
        "import os\n",
        "import matplotlib.pyplot as plot\n",
        "import cv2\n",
        "import numpy as np\n",
        "from sklearn.utils import shuffle\n",
        "from sklearn.metrics import confusion_matrix as CM\n",
        "from random import randint\n",
        "from IPython.display import SVG\n",
        "import matplotlib.gridspec as gridspec"
      ],
      "execution_count": 1,
      "outputs": [
        {
          "output_type": "stream",
          "text": [
            "Using TensorFlow backend.\n"
          ],
          "name": "stderr"
        }
      ]
    },
    {
      "cell_type": "code",
      "metadata": {
        "id": "4Mu2Cg5gBFG8",
        "colab_type": "code",
        "colab": {}
      },
      "source": [
        "from keras.preprocessing.image import ImageDataGenerator\n",
        "from keras.models import Sequential\n",
        "from keras.layers import Conv2D, MaxPooling2D, Activation, Dropout, Flatten, Dense\n",
        "from keras.callbacks import ModelCheckpoint, EarlyStopping"
      ],
      "execution_count": 0,
      "outputs": []
    },
    {
      "cell_type": "code",
      "metadata": {
        "id": "G3LViUCCAUdK",
        "colab_type": "code",
        "colab": {}
      },
      "source": [
        "# # Create a resolver\n",
        "# # Distribution strategies\n",
        "# resolver = tf.distribute.cluster_resolver.TPUClusterResolver(tpu='grpc://' + os.environ['COLAB_TPU_ADDR'])\n",
        "# tf.config.experimental_connect_to_cluster(resolver)\n",
        "# tf.tpu.experimental.initialize_tpu_system(resolver)\n",
        "\n",
        "# strategy = tf.distribute.experimental.TPUStrategy(resolver)"
      ],
      "execution_count": 0,
      "outputs": []
    },
    {
      "cell_type": "code",
      "metadata": {
        "id": "3m2eh4HmRBtN",
        "colab_type": "code",
        "outputId": "2a4daba5-fb2b-4d74-a11b-00f1f66b9975",
        "colab": {
          "base_uri": "https://localhost:8080/",
          "height": 68
        }
      },
      "source": [
        "import os\n",
        "os.environ['KAGGLE_USERNAME'] = \"theroyakash\" # username from the json file\n",
        "os.environ['KAGGLE_KEY'] = \"0c952bf9d48e02510ca5a7b61823f49b\" # key from the json file\n",
        "!kaggle datasets download -d theroyakash/adfexefe # api copied from kaggle"
      ],
      "execution_count": 4,
      "outputs": [
        {
          "output_type": "stream",
          "text": [
            "Downloading adfexefe.zip to /content\n",
            " 99% 186M/189M [00:02<00:00, 72.9MB/s]\n",
            "100% 189M/189M [00:02<00:00, 69.0MB/s]\n"
          ],
          "name": "stdout"
        }
      ]
    },
    {
      "cell_type": "code",
      "metadata": {
        "id": "-kmrv2FNRCe_",
        "colab_type": "code",
        "outputId": "34f31760-5b46-4c86-bd98-2d8c8bbc6aa1",
        "colab": {
          "base_uri": "https://localhost:8080/",
          "height": 34
        }
      },
      "source": [
        "!ls"
      ],
      "execution_count": 5,
      "outputs": [
        {
          "output_type": "stream",
          "text": [
            "adfexefe.zip  sample_data\n"
          ],
          "name": "stdout"
        }
      ]
    },
    {
      "cell_type": "code",
      "metadata": {
        "id": "lTjXd6T5RCbE",
        "colab_type": "code",
        "colab": {}
      },
      "source": [
        "from zipfile import ZipFile\n",
        "\n",
        "with ZipFile('adfexefe.zip', 'r') as zipObj:\n",
        "   # Extract all the contents of zip file in current directory\n",
        "   zipObj.extractall()"
      ],
      "execution_count": 0,
      "outputs": []
    },
    {
      "cell_type": "code",
      "metadata": {
        "id": "Tau4U8xXRCXo",
        "colab_type": "code",
        "outputId": "02f3ce88-ffc5-4e6d-e815-feb6e0c0e0ab",
        "colab": {
          "base_uri": "https://localhost:8080/",
          "height": 34
        }
      },
      "source": [
        "!ls"
      ],
      "execution_count": 7,
      "outputs": [
        {
          "output_type": "stream",
          "text": [
            "adfexefe.zip  Images  sample_data\n"
          ],
          "name": "stdout"
        }
      ]
    },
    {
      "cell_type": "code",
      "metadata": {
        "id": "ZOmjMGG1TawH",
        "colab_type": "code",
        "outputId": "dc59aea3-f3d0-496b-d319-c5b070277260",
        "colab": {
          "base_uri": "https://localhost:8080/",
          "height": 34
        }
      },
      "source": [
        "os.getcwd()"
      ],
      "execution_count": 9,
      "outputs": [
        {
          "output_type": "execute_result",
          "data": {
            "text/plain": [
              "'/content'"
            ]
          },
          "metadata": {
            "tags": []
          },
          "execution_count": 9
        }
      ]
    },
    {
      "cell_type": "markdown",
      "metadata": {
        "id": "AfO4rsBtAjXJ",
        "colab_type": "text"
      },
      "source": [
        "---\n",
        "---\n",
        "---\n",
        "---\n",
        "---\n",
        "---\n",
        "---\n",
        "---\n",
        "---\n",
        "---\n",
        "---\n",
        "---\n",
        "---\n",
        "---\n",
        "---\n",
        "---\n",
        "---\n",
        "---\n",
        "---\n",
        "---\n",
        "---\n",
        "---\n",
        "---\n",
        "---\n",
        "---"
      ]
    },
    {
      "cell_type": "code",
      "metadata": {
        "id": "hPq6cWx6RCOe",
        "colab_type": "code",
        "colab": {}
      },
      "source": [
        "# image_size = 100\n",
        "\n",
        "# labels = {}\n",
        "\n",
        "# for i in range(84):\n",
        "#     labels[f'/content/Images/{i+1}'] = i"
      ],
      "execution_count": 0,
      "outputs": []
    },
    {
      "cell_type": "code",
      "metadata": {
        "id": "59pNTuSLRCIE",
        "colab_type": "code",
        "colab": {}
      },
      "source": [
        "# training_data = []\n",
        "\n",
        "# def make_training_data():\n",
        "    \n",
        "#     for label in labels:\n",
        "        \n",
        "#         for y in tqdm(os.listdir(label)):\n",
        "            \n",
        "#             try:\n",
        "#                 path = os.path.join(label, y)\n",
        "#                 img = cv2.imread(path, cv2.IMREAD_GRAYSCALE)\n",
        "#                 img = cv2.resize(img, (image_size, image_size))\n",
        "\n",
        "#                 training_data.append([np.array(img), np.eye(84)[labels[label]]])\n",
        "            \n",
        "#             except Exception as e:\n",
        "#                 print(e)\n",
        "#                 pass"
      ],
      "execution_count": 0,
      "outputs": []
    },
    {
      "cell_type": "code",
      "metadata": {
        "id": "kleOm73pUa2n",
        "colab_type": "code",
        "colab": {}
      },
      "source": [
        "# make_training_data()"
      ],
      "execution_count": 0,
      "outputs": []
    },
    {
      "cell_type": "code",
      "metadata": {
        "id": "WARnTGMxUj2d",
        "colab_type": "code",
        "colab": {}
      },
      "source": [
        "# np.random.shuffle(training_data)"
      ],
      "execution_count": 0,
      "outputs": []
    },
    {
      "cell_type": "code",
      "metadata": {
        "id": "rRo6X0cyU16h",
        "colab_type": "code",
        "colab": {}
      },
      "source": [
        "# len(training_data)"
      ],
      "execution_count": 0,
      "outputs": []
    },
    {
      "cell_type": "code",
      "metadata": {
        "id": "Yb--ZCxTVA2g",
        "colab_type": "code",
        "colab": {}
      },
      "source": [
        "# X = []\n",
        "# y = []\n",
        "\n",
        "# for features, label in training_data:\n",
        "#     X.append(features)\n",
        "#     y.append(label)\n",
        "\n",
        "# X = np.array(X).reshape(-1, image_size, image_size, 1)"
      ],
      "execution_count": 0,
      "outputs": []
    },
    {
      "cell_type": "code",
      "metadata": {
        "id": "QTlL_knvU_7x",
        "colab_type": "code",
        "colab": {}
      },
      "source": [
        "# X.shape"
      ],
      "execution_count": 0,
      "outputs": []
    },
    {
      "cell_type": "markdown",
      "metadata": {
        "id": "dRMqzrmVbH2Y",
        "colab_type": "text"
      },
      "source": [
        "---\n",
        "---\n",
        "---\n",
        "---\n",
        "---\n",
        "---\n",
        "---\n",
        "---\n",
        "---\n",
        "---\n",
        "---\n",
        "---\n",
        "---\n",
        "---\n",
        "---\n",
        "---\n",
        "---\n",
        "---\n",
        "---\n",
        "---\n",
        "---\n",
        "---\n",
        "---\n",
        "---\n",
        "---"
      ]
    },
    {
      "cell_type": "code",
      "metadata": {
        "id": "2_EcJmfzbHeU",
        "colab_type": "code",
        "outputId": "819080f9-6a84-4d3c-a7fe-5c38cdcc49a9",
        "colab": {
          "base_uri": "https://localhost:8080/",
          "height": 34
        }
      },
      "source": [
        "!ls"
      ],
      "execution_count": 10,
      "outputs": [
        {
          "output_type": "stream",
          "text": [
            "adfexefe.zip  Images  sample_data\n"
          ],
          "name": "stdout"
        }
      ]
    },
    {
      "cell_type": "code",
      "metadata": {
        "id": "fiKolWwsczxk",
        "colab_type": "code",
        "outputId": "c74445ee-f5c0-4ec1-bb60-c5762924ce21",
        "colab": {
          "base_uri": "https://localhost:8080/",
          "height": 34
        }
      },
      "source": [
        "import keras_preprocessing\n",
        "from keras_preprocessing import image\n",
        "from keras_preprocessing.image import ImageDataGenerator\n",
        "\n",
        "\n",
        "TRAINING_DIR = \"/content/Images\"\n",
        "training_datagen = ImageDataGenerator(\n",
        "    rescale = 1./255,\n",
        "    # rotation_range=40,\n",
        "    # width_shift_range=0.2,\n",
        "    # height_shift_range=0.2,\n",
        "    # shear_range=0.2,\n",
        "    # zoom_range=0.2,\n",
        "    horizontal_flip=False) # Nope\n",
        "    # fill_mode='nearest')\n",
        "\n",
        "train_generator = training_datagen.flow_from_directory(\n",
        "\tTRAINING_DIR,\n",
        "\ttarget_size=(200,200),\n",
        "\tclass_mode='categorical',\n",
        "    batch_size = 200\n",
        ")"
      ],
      "execution_count": 110,
      "outputs": [
        {
          "output_type": "stream",
          "text": [
            "Found 166105 images belonging to 84 classes.\n"
          ],
          "name": "stdout"
        }
      ]
    },
    {
      "cell_type": "code",
      "metadata": {
        "id": "VH1D_Dbm-nPn",
        "colab_type": "code",
        "colab": {}
      },
      "source": [
        "def AKHCRNetV1():\n",
        "\n",
        "    model = tf.keras.models.Sequential([\n",
        "        # Note the input shape is the desired size of the image 100 * 100 with 3 bytes color\n",
        "        # This is the first convolution\n",
        "        tf.keras.layers.Conv2D(64, (3,3), activation='relu', input_shape=(200, 200, 3), padding='same'),\n",
        "        tf.keras.layers.MaxPooling2D(2, 2),\n",
        "        # The second convolution\n",
        "        tf.keras.layers.Conv2D(64, (3,3), activation='relu', padding='same'),\n",
        "        tf.keras.layers.MaxPooling2D(2,2),\n",
        "        # The third convolution\n",
        "        tf.keras.layers.Conv2D(128, (3,3), activation='relu', padding='same'),\n",
        "        tf.keras.layers.MaxPooling2D(2,2),\n",
        "        # The fourth convolution\n",
        "        tf.keras.layers.Conv2D(128, (3,3), activation='relu', padding='same'),\n",
        "        tf.keras.layers.MaxPooling2D(2,2),\n",
        "        # Flatten the results to feed into a DNN\n",
        "        tf.keras.layers.Flatten(),\n",
        "        tf.keras.layers.Dropout(0.5),\n",
        "        # 512 neuron hidden layer\n",
        "        tf.keras.layers.Dense(512, activation='relu'),\n",
        "        tf.keras.layers.Dense(84, activation='softmax')\n",
        "    ])\n",
        "\n",
        "    return model"
      ],
      "execution_count": 0,
      "outputs": []
    },
    {
      "cell_type": "code",
      "metadata": {
        "id": "sjiilRXHrnmT",
        "colab_type": "code",
        "colab": {}
      },
      "source": [
        "model = AKHCRNetV1()"
      ],
      "execution_count": 0,
      "outputs": []
    },
    {
      "cell_type": "code",
      "metadata": {
        "id": "yNf5zDeuM5yi",
        "colab_type": "code",
        "outputId": "d1aa7525-bc61-4d0d-8aad-3354a14d7435",
        "colab": {
          "base_uri": "https://localhost:8080/",
          "height": 561
        }
      },
      "source": [
        "model.summary()\n",
        "model.compile(loss = 'categorical_crossentropy', optimizer='rmsprop', metrics=['accuracy'])"
      ],
      "execution_count": 113,
      "outputs": [
        {
          "output_type": "stream",
          "text": [
            "Model: \"sequential_14\"\n",
            "_________________________________________________________________\n",
            "Layer (type)                 Output Shape              Param #   \n",
            "=================================================================\n",
            "conv2d_53 (Conv2D)           (None, 200, 200, 64)      1792      \n",
            "_________________________________________________________________\n",
            "max_pooling2d_53 (MaxPooling (None, 100, 100, 64)      0         \n",
            "_________________________________________________________________\n",
            "conv2d_54 (Conv2D)           (None, 100, 100, 64)      36928     \n",
            "_________________________________________________________________\n",
            "max_pooling2d_54 (MaxPooling (None, 50, 50, 64)        0         \n",
            "_________________________________________________________________\n",
            "conv2d_55 (Conv2D)           (None, 50, 50, 128)       73856     \n",
            "_________________________________________________________________\n",
            "max_pooling2d_55 (MaxPooling (None, 25, 25, 128)       0         \n",
            "_________________________________________________________________\n",
            "conv2d_56 (Conv2D)           (None, 25, 25, 128)       147584    \n",
            "_________________________________________________________________\n",
            "max_pooling2d_56 (MaxPooling (None, 12, 12, 128)       0         \n",
            "_________________________________________________________________\n",
            "flatten_14 (Flatten)         (None, 18432)             0         \n",
            "_________________________________________________________________\n",
            "dropout_14 (Dropout)         (None, 18432)             0         \n",
            "_________________________________________________________________\n",
            "dense_28 (Dense)             (None, 512)               9437696   \n",
            "_________________________________________________________________\n",
            "dense_29 (Dense)             (None, 84)                43092     \n",
            "=================================================================\n",
            "Total params: 9,740,948\n",
            "Trainable params: 9,740,948\n",
            "Non-trainable params: 0\n",
            "_________________________________________________________________\n"
          ],
          "name": "stdout"
        }
      ]
    },
    {
      "cell_type": "code",
      "metadata": {
        "id": "rGvIlRklBOHM",
        "colab_type": "code",
        "colab": {}
      },
      "source": [
        "# from tensorflow.keras.utils import plot_model\n",
        "# plot_model(model , 'captcha_predictor.png' , show_shapes=True)"
      ],
      "execution_count": 0,
      "outputs": []
    },
    {
      "cell_type": "code",
      "metadata": {
        "id": "n4mkj1nf_j73",
        "colab_type": "code",
        "colab": {
          "base_uri": "https://localhost:8080/",
          "height": 1000
        },
        "outputId": "5b9450cb-365a-415e-da08-ee653d2415e9"
      },
      "source": [
        "history = model.fit(train_generator, epochs=100, steps_per_epoch=20, verbose = 1)"
      ],
      "execution_count": 114,
      "outputs": [
        {
          "output_type": "stream",
          "text": [
            "Epoch 1/100\n",
            "20/20 [==============================] - 14s 684ms/step - loss: 4.2408 - accuracy: 0.0782\n",
            "Epoch 2/100\n",
            "20/20 [==============================] - 14s 687ms/step - loss: 2.8273 - accuracy: 0.3147\n",
            "Epoch 3/100\n",
            "20/20 [==============================] - 14s 690ms/step - loss: 2.0384 - accuracy: 0.4860\n",
            "Epoch 4/100\n",
            "20/20 [==============================] - 14s 689ms/step - loss: 1.6933 - accuracy: 0.5523\n",
            "Epoch 5/100\n",
            "20/20 [==============================] - 14s 691ms/step - loss: 1.5284 - accuracy: 0.5987\n",
            "Epoch 6/100\n",
            "20/20 [==============================] - 14s 689ms/step - loss: 1.4235 - accuracy: 0.6255\n",
            "Epoch 7/100\n",
            "20/20 [==============================] - 14s 689ms/step - loss: 1.3495 - accuracy: 0.6380\n",
            "Epoch 8/100\n",
            "20/20 [==============================] - 14s 690ms/step - loss: 1.2394 - accuracy: 0.6678\n",
            "Epoch 9/100\n",
            "20/20 [==============================] - 14s 688ms/step - loss: 1.2280 - accuracy: 0.6752\n",
            "Epoch 10/100\n",
            "20/20 [==============================] - 14s 688ms/step - loss: 1.1702 - accuracy: 0.6905\n",
            "Epoch 11/100\n",
            "20/20 [==============================] - 14s 691ms/step - loss: 1.0807 - accuracy: 0.7032\n",
            "Epoch 12/100\n",
            "20/20 [==============================] - 14s 685ms/step - loss: 1.0243 - accuracy: 0.7138\n",
            "Epoch 13/100\n",
            "20/20 [==============================] - 14s 686ms/step - loss: 0.9961 - accuracy: 0.7247\n",
            "Epoch 14/100\n",
            "20/20 [==============================] - 14s 684ms/step - loss: 1.0061 - accuracy: 0.7293\n",
            "Epoch 15/100\n",
            "20/20 [==============================] - 14s 685ms/step - loss: 0.9915 - accuracy: 0.7247\n",
            "Epoch 16/100\n",
            "20/20 [==============================] - 14s 685ms/step - loss: 0.9506 - accuracy: 0.7498\n",
            "Epoch 17/100\n",
            "20/20 [==============================] - 14s 687ms/step - loss: 0.9158 - accuracy: 0.7510\n",
            "Epoch 18/100\n",
            "20/20 [==============================] - 14s 689ms/step - loss: 0.8658 - accuracy: 0.7695\n",
            "Epoch 19/100\n",
            "20/20 [==============================] - 14s 686ms/step - loss: 0.8817 - accuracy: 0.7600\n",
            "Epoch 20/100\n",
            "20/20 [==============================] - 14s 685ms/step - loss: 0.8488 - accuracy: 0.7598\n",
            "Epoch 21/100\n",
            "20/20 [==============================] - 14s 688ms/step - loss: 0.8297 - accuracy: 0.7763\n",
            "Epoch 22/100\n",
            "20/20 [==============================] - 14s 687ms/step - loss: 0.8013 - accuracy: 0.7730\n",
            "Epoch 23/100\n",
            "20/20 [==============================] - 14s 683ms/step - loss: 0.8129 - accuracy: 0.7785\n",
            "Epoch 24/100\n",
            "20/20 [==============================] - 14s 686ms/step - loss: 0.8044 - accuracy: 0.7790\n",
            "Epoch 25/100\n",
            "20/20 [==============================] - 14s 690ms/step - loss: 0.7850 - accuracy: 0.7847\n",
            "Epoch 26/100\n",
            "20/20 [==============================] - 14s 685ms/step - loss: 0.7343 - accuracy: 0.7970\n",
            "Epoch 27/100\n",
            "20/20 [==============================] - 14s 690ms/step - loss: 0.7644 - accuracy: 0.7895\n",
            "Epoch 28/100\n",
            "20/20 [==============================] - 14s 687ms/step - loss: 0.7068 - accuracy: 0.8092\n",
            "Epoch 29/100\n",
            "20/20 [==============================] - 14s 686ms/step - loss: 0.7041 - accuracy: 0.8075\n",
            "Epoch 30/100\n",
            "20/20 [==============================] - 14s 685ms/step - loss: 0.7088 - accuracy: 0.8117\n",
            "Epoch 31/100\n",
            "20/20 [==============================] - 14s 685ms/step - loss: 0.7058 - accuracy: 0.8108\n",
            "Epoch 32/100\n",
            "20/20 [==============================] - 14s 683ms/step - loss: 0.6860 - accuracy: 0.8025\n",
            "Epoch 33/100\n",
            "20/20 [==============================] - 14s 685ms/step - loss: 0.6987 - accuracy: 0.8083\n",
            "Epoch 34/100\n",
            "20/20 [==============================] - 14s 688ms/step - loss: 0.6328 - accuracy: 0.8285\n",
            "Epoch 35/100\n",
            "20/20 [==============================] - 14s 685ms/step - loss: 0.6797 - accuracy: 0.8150\n",
            "Epoch 36/100\n",
            "20/20 [==============================] - 14s 692ms/step - loss: 0.6609 - accuracy: 0.8207\n",
            "Epoch 37/100\n",
            "20/20 [==============================] - 14s 696ms/step - loss: 0.6430 - accuracy: 0.8303\n",
            "Epoch 38/100\n",
            "20/20 [==============================] - 14s 685ms/step - loss: 0.6685 - accuracy: 0.8170\n",
            "Epoch 39/100\n",
            "20/20 [==============================] - 14s 687ms/step - loss: 0.6109 - accuracy: 0.8320\n",
            "Epoch 40/100\n",
            "20/20 [==============================] - 14s 691ms/step - loss: 0.6308 - accuracy: 0.8253\n",
            "Epoch 41/100\n",
            "20/20 [==============================] - 14s 685ms/step - loss: 0.6449 - accuracy: 0.8230\n",
            "Epoch 42/100\n",
            "20/20 [==============================] - 16s 781ms/step - loss: 0.5336 - accuracy: 0.8517\n",
            "Epoch 43/100\n",
            "20/20 [==============================] - 14s 687ms/step - loss: 0.4595 - accuracy: 0.8715\n",
            "Epoch 44/100\n",
            "20/20 [==============================] - 14s 686ms/step - loss: 0.4926 - accuracy: 0.8645\n",
            "Epoch 45/100\n",
            "20/20 [==============================] - 14s 688ms/step - loss: 0.4916 - accuracy: 0.8615\n",
            "Epoch 46/100\n",
            "20/20 [==============================] - 14s 683ms/step - loss: 0.4894 - accuracy: 0.8655\n",
            "Epoch 47/100\n",
            "20/20 [==============================] - 14s 683ms/step - loss: 0.4563 - accuracy: 0.8777\n",
            "Epoch 48/100\n",
            "20/20 [==============================] - 14s 694ms/step - loss: 0.4914 - accuracy: 0.8593\n",
            "Epoch 49/100\n",
            "20/20 [==============================] - 14s 687ms/step - loss: 0.4788 - accuracy: 0.8660\n",
            "Epoch 50/100\n",
            "20/20 [==============================] - 14s 685ms/step - loss: 0.4887 - accuracy: 0.8597\n",
            "Epoch 51/100\n",
            "20/20 [==============================] - 14s 681ms/step - loss: 0.4902 - accuracy: 0.8670\n",
            "Epoch 52/100\n",
            "20/20 [==============================] - 14s 688ms/step - loss: 0.4677 - accuracy: 0.8735\n",
            "Epoch 53/100\n",
            "20/20 [==============================] - 14s 683ms/step - loss: 0.4735 - accuracy: 0.8725\n",
            "Epoch 54/100\n",
            "20/20 [==============================] - 14s 683ms/step - loss: 0.4362 - accuracy: 0.8748\n",
            "Epoch 55/100\n",
            "20/20 [==============================] - 14s 688ms/step - loss: 0.4577 - accuracy: 0.8673\n",
            "Epoch 56/100\n",
            "20/20 [==============================] - 14s 684ms/step - loss: 0.4553 - accuracy: 0.8702\n",
            "Epoch 57/100\n",
            "20/20 [==============================] - 14s 683ms/step - loss: 0.4608 - accuracy: 0.8675\n",
            "Epoch 58/100\n",
            "20/20 [==============================] - 14s 690ms/step - loss: 0.4778 - accuracy: 0.8675\n",
            "Epoch 59/100\n",
            "20/20 [==============================] - 14s 684ms/step - loss: 0.4524 - accuracy: 0.8735\n",
            "Epoch 60/100\n",
            "20/20 [==============================] - 14s 690ms/step - loss: 0.4787 - accuracy: 0.8742\n",
            "Epoch 61/100\n",
            "20/20 [==============================] - 14s 684ms/step - loss: 0.4164 - accuracy: 0.8817\n",
            "Epoch 62/100\n",
            "20/20 [==============================] - 14s 687ms/step - loss: 0.4467 - accuracy: 0.8805\n",
            "Epoch 63/100\n",
            "20/20 [==============================] - 14s 682ms/step - loss: 0.4764 - accuracy: 0.8655\n",
            "Epoch 64/100\n",
            "20/20 [==============================] - 14s 686ms/step - loss: 0.4749 - accuracy: 0.8715\n",
            "Epoch 65/100\n",
            "20/20 [==============================] - 14s 682ms/step - loss: 0.4376 - accuracy: 0.8715\n",
            "Epoch 66/100\n",
            "20/20 [==============================] - 14s 685ms/step - loss: 0.4727 - accuracy: 0.8670\n",
            "Epoch 67/100\n",
            "20/20 [==============================] - 14s 685ms/step - loss: 0.4680 - accuracy: 0.8683\n",
            "Epoch 68/100\n",
            "20/20 [==============================] - 14s 687ms/step - loss: 0.4713 - accuracy: 0.8685\n",
            "Epoch 69/100\n",
            "20/20 [==============================] - 14s 683ms/step - loss: 0.4457 - accuracy: 0.8750\n",
            "Epoch 70/100\n",
            "20/20 [==============================] - 14s 696ms/step - loss: 0.4484 - accuracy: 0.8790\n",
            "Epoch 71/100\n",
            "20/20 [==============================] - 14s 682ms/step - loss: 0.4491 - accuracy: 0.8720\n",
            "Epoch 72/100\n",
            "20/20 [==============================] - 14s 687ms/step - loss: 0.4667 - accuracy: 0.8695\n",
            "Epoch 73/100\n",
            "20/20 [==============================] - 14s 688ms/step - loss: 0.4697 - accuracy: 0.8723\n",
            "Epoch 74/100\n",
            "20/20 [==============================] - 14s 686ms/step - loss: 0.4466 - accuracy: 0.8780\n",
            "Epoch 75/100\n",
            "20/20 [==============================] - 14s 684ms/step - loss: 0.4853 - accuracy: 0.8648\n",
            "Epoch 76/100\n",
            "20/20 [==============================] - 14s 688ms/step - loss: 0.4655 - accuracy: 0.8708\n",
            "Epoch 77/100\n",
            "20/20 [==============================] - 14s 685ms/step - loss: 0.4474 - accuracy: 0.8792\n",
            "Epoch 78/100\n",
            "20/20 [==============================] - 14s 693ms/step - loss: 0.4436 - accuracy: 0.8788\n",
            "Epoch 79/100\n",
            "20/20 [==============================] - 14s 690ms/step - loss: 0.4630 - accuracy: 0.8773\n",
            "Epoch 80/100\n",
            "20/20 [==============================] - 14s 686ms/step - loss: 0.4632 - accuracy: 0.8792\n",
            "Epoch 81/100\n",
            "20/20 [==============================] - 14s 687ms/step - loss: 0.4594 - accuracy: 0.8717\n",
            "Epoch 82/100\n",
            "20/20 [==============================] - 14s 682ms/step - loss: 0.4249 - accuracy: 0.8775\n",
            "Epoch 83/100\n",
            "20/20 [==============================] - 14s 688ms/step - loss: 0.4610 - accuracy: 0.8792\n",
            "Epoch 84/100\n",
            "20/20 [==============================] - 13s 672ms/step - loss: 0.3640 - accuracy: 0.9024\n",
            "Epoch 85/100\n",
            "20/20 [==============================] - 14s 683ms/step - loss: 0.3112 - accuracy: 0.9162\n",
            "Epoch 86/100\n",
            "20/20 [==============================] - 14s 693ms/step - loss: 0.2771 - accuracy: 0.9202\n",
            "Epoch 87/100\n",
            "20/20 [==============================] - 14s 693ms/step - loss: 0.2901 - accuracy: 0.9118\n",
            "Epoch 88/100\n",
            "20/20 [==============================] - 14s 691ms/step - loss: 0.3191 - accuracy: 0.9100\n",
            "Epoch 89/100\n",
            "20/20 [==============================] - 14s 690ms/step - loss: 0.2976 - accuracy: 0.9178\n",
            "Epoch 90/100\n",
            "20/20 [==============================] - 14s 690ms/step - loss: 0.3284 - accuracy: 0.9120\n",
            "Epoch 91/100\n",
            "20/20 [==============================] - 14s 683ms/step - loss: 0.3028 - accuracy: 0.9140\n",
            "Epoch 92/100\n",
            "20/20 [==============================] - 14s 686ms/step - loss: 0.3276 - accuracy: 0.9085\n",
            "Epoch 93/100\n",
            "20/20 [==============================] - 14s 688ms/step - loss: 0.3255 - accuracy: 0.9078\n",
            "Epoch 94/100\n",
            "20/20 [==============================] - 14s 685ms/step - loss: 0.3329 - accuracy: 0.9087\n",
            "Epoch 95/100\n",
            "20/20 [==============================] - 14s 685ms/step - loss: 0.3221 - accuracy: 0.9082\n",
            "Epoch 96/100\n",
            "20/20 [==============================] - 14s 686ms/step - loss: 0.3252 - accuracy: 0.9107\n",
            "Epoch 97/100\n",
            "20/20 [==============================] - 14s 684ms/step - loss: 0.3166 - accuracy: 0.9080\n",
            "Epoch 98/100\n",
            "20/20 [==============================] - 14s 682ms/step - loss: 0.3173 - accuracy: 0.9112\n",
            "Epoch 99/100\n",
            "20/20 [==============================] - 14s 688ms/step - loss: 0.3400 - accuracy: 0.9087\n",
            "Epoch 100/100\n",
            "20/20 [==============================] - 14s 689ms/step - loss: 0.3278 - accuracy: 0.9075\n"
          ],
          "name": "stdout"
        }
      ]
    },
    {
      "cell_type": "code",
      "metadata": {
        "id": "hFpes4JzA37j",
        "colab_type": "code",
        "outputId": "b27899ca-9d83-4d94-f147-25d4f8073790",
        "colab": {
          "base_uri": "https://localhost:8080/",
          "height": 298
        }
      },
      "source": [
        "import matplotlib.pyplot as plt\n",
        "acc = history.history['accuracy']\n",
        "loss = history.history['loss']\n",
        "\n",
        "epochs = range(len(acc))\n",
        "\n",
        "plt.plot(epochs, acc, 'r', label='Training accuracy')\n",
        "plt.title('Training accuracy')\n",
        "plt.legend(loc=0)\n",
        "plt.figure()\n",
        "\n",
        "\n",
        "plt.show()"
      ],
      "execution_count": 115,
      "outputs": [
        {
          "output_type": "display_data",
          "data": {
            "image/png": "[encoded data removed]",
            "text/plain": [
              "<Figure size 432x288 with 1 Axes>"
            ]
          },
          "metadata": {
            "tags": [],
            "needs_background": "light"
          }
        },
        {
          "output_type": "display_data",
          "data": {
            "text/plain": [
              "<Figure size 432x288 with 0 Axes>"
            ]
          },
          "metadata": {
            "tags": []
          }
        }
      ]
    },
    {
      "cell_type": "code",
      "metadata": {
        "id": "Oskl1lGUuBGg",
        "colab_type": "code",
        "colab": {
          "resources": {
            "http://localhost:8080/nbextensions/google.colab/files.js": {
              "data": "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",
              "ok": true,
              "headers": [
                [
                  "content-type",
                  "application/javascript"
                ]
              ],
              "status": 200,
              "status_text": ""
            }
          },
          "base_uri": "https://localhost:8080/",
          "height": 112
        },
        "outputId": "caa45896-eec4-40c9-cfb8-addcee9cfa20"
      },
      "source": [
        "from google.colab import files\n",
        "files.upload()"
      ],
      "execution_count": 91,
      "outputs": [
        {
          "output_type": "display_data",
          "data": {
            "text/html": [
              "\n",
              "     <input type=\"file\" id=\"files-0ac5fae0-18b5-4454-bca5-643dc82a549b\" name=\"files[]\" multiple disabled />\n",
              "     <output id=\"result-0ac5fae0-18b5-4454-bca5-643dc82a549b\">\n",
              "      Upload widget is only available when the cell has been executed in the\n",
              "      current browser session. Please rerun this cell to enable.\n",
              "      </output>\n",
              "      <script src=\"/nbextensions/google.colab/files.js\"></script> "
            ],
            "text/plain": [
              "<IPython.core.display.HTML object>"
            ]
          },
          "metadata": {
            "tags": []
          }
        },
        {
          "output_type": "stream",
          "text": [
            "Saving Screen Shot 2020-05-02 at 7.47.14 PM.png to Screen Shot 2020-05-02 at 7.47.14 PM.png\n"
          ],
          "name": "stdout"
        },
        {
          "output_type": "execute_result",
          "data": {
            "text/plain": [
              "{'Screen Shot 2020-05-02 at 7.47.14 PM.png': b'\\x89PNG\\r\\n\\x1a\\n\\x00\\x00\\x00\\rIHDR\\x00\\x00\\x00d\\x00\\x00\\x00d\\x08\\x06\\x00\\x00\\x00p\\xe2\\x95T\\x00\\x00\\x01AiCCPICC Profile\\x00\\x00(\\x91c``\\x12H,(\\xc8aa``\\xc8\\xcd+)\\nrwR\\x88\\x88\\x8cR`\\x7f\\xc2\\xc0\\xca\\xc0\\xc8\\xc0\\xc3 \\xc7 \\x99\\x98\\\\\\\\\\xe0\\x18\\x10\\xe0\\x03T\\xc2\\x00\\xa3Q\\xc1\\xb7k@\\xb5@pY\\x17d\\xd6\\xc3C3DX\\x1f\\xe5_\\x9cS\\xf4c\\x92\\xf5<s1L\\xf5(\\x80+%\\xb58\\x19H\\xff\\x01\\xe2\\xa4\\xe4\\x82\\xa2\\x12\\x06\\x06\\xc6\\x04 [\\xb9\\xbc\\xa4\\x00\\xc4n\\x01\\xb2E\\x8a\\x80\\x8e\\x02\\xb2g\\x80\\xd8\\xe9\\x10\\xf6\\x1a\\x10;\\t\\xc2>\\x00V\\x13\\x12\\xe4\\x0cd_\\x01\\xb2\\x05\\x923\\x12S\\x80\\xec\\'@\\xb6N\\x12\\x92x:\\x12\\x1bj/\\x08px\\x04(\\x18\\x19\\xa5\\x16\\x13p*\\xe9\\xa0$\\xb5\\xa2\\x04D;\\xe7\\x17T\\x16e\\xa6g\\x94(8\\x02C(U\\xc13/YOG\\xc1\\xc8\\xc0\\xc8\\x80\\x81\\x01\\x14\\xde\\x10\\xd5\\x9f\\xcf\\x83\\xc3\\x91Q\"\\t!\\x96*\\xcd\\xc0`\\xbc\\x02(\\xc8\\x89\\x10\\xcb\\x92c`\\xd8\\xbd\\x8e\\x81Ap:BL}.\\xd0K\\xab\\x18\\x18\\x0e\\xf4\\x14$\\x16%\\xc2\\x1d\\xc0\\xf8\\x8d\\xa58\\xcd\\xd8\\x08\\xc2\\xe6\\x91b``=\\xf0\\xff\\xff\\xa7\\xff\\x0c\\x0c\\xec\\xc00\\xfe{\\xee\\xff\\xff\\xdf3\\xfe\\xff\\xff;\\x8d\\x81\\x81\\xf9\\x0b\\x03\\xc3~?\\x00\\xae\\x9a^\\x84G\\x0fO7\\x00\\x00\\x00VeXIfMM\\x00*\\x00\\x00\\x00\\x08\\x00\\x01\\x87i\\x00\\x04\\x00\\x00\\x00\\x01\\x00\\x00\\x00\\x1a\\x00\\x00\\x00\\x00\\x00\\x03\\x92\\x86\\x00\\x07\\x00\\x00\\x00\\x12\\x00\\x00\\x00D\\xa0\\x02\\x00\\x04\\x00\\x00\\x00\\x01\\x00\\x00\\x00d\\xa0\\x03\\x00\\x04\\x00\\x00\\x00\\x01\\x00\\x00\\x00d\\x00\\x00\\x00\\x00ASCII\\x00\\x00\\x00Screenshot\\x8d\\x04\\xea\\x84\\x00\\x00\\x01\\xd6iTXtXML:com.adobe.xmp\\x00\\x00\\x00\\x00\\x00<x:xmpmeta xmlns:x=\"adobe:ns:meta/\" x:xmptk=\"XMP Core 5.4.0\">\\n   <rdf:RDF xmlns:rdf=\"http://www.w3.org/1999/02/22-rdf-syntax-ns#\">\\n      <rdf:Description rdf:about=\"\"\\n            xmlns:exif=\"http://ns.adobe.com/exif/1.0/\">\\n         <exif:PixelXDimension>100</exif:PixelXDimension>\\n         <exif:UserComment>Screenshot</exif:UserComment>\\n         <exif:PixelYDimension>100</exif:PixelYDimension>\\n      </rdf:Description>\\n   </rdf:RDF>\\n</x:xmpmeta>\\n\\xc65\\xcdr\\x00\\x00&\\xb5IDATx\\x01\\xed\\xdd\\x07\\xacgE\\xd9?\\xf0sa\\xe9m\\x95*RvY\\x8a\"\\xb0t\\xbb\\xac\\xf2W\\xec\\xc6\\xd7\\xfa\\x02\\xd1\\xd7\\xc2\\xdf\\xc4\\x9eh4\\x1a\\x13c,\\xb1\\xc4\\xd8\\x12\\x83\\x1a\\x8dQ\\x01M,\\xb1+6\\xact\\x01\\xa5\\xef\\x02k\\xa1\\x83 \\xb0H\\x93\\xdf\\x7f>\\xcf\\xe5{\\x98{Y\\xcb\\x7f\\x97\\xfbzI\\xf6I\\xce\\xef\\x9c\\x993\\xf3\\xcc3O\\x9d\\x993\\xe7\\xfc\\xa6&\\xd30\\xb4\\xd3p\\xeb\\xad\\xb7\\x0e\\x9bo\\xbe\\xf9\\x00n\\xb9\\xe5\\x96a\\xfd\\xf5\\xd7\\x1fV\\xadZU\\xe9m\\xb6\\xd9\\xa6\\xce\\xcaMMM\\xd5\\xb5\\x9f;\\xef\\xbcs\\xf8\\xeb_\\xffZien\\xb8\\xe1\\x86a\\xe3\\x8d7\\x1e6\\xd9d\\x93\\xca\\xbb\\xfb\\xee\\xbb\\x87\\xbf\\xff\\xfd\\xef\\xc3\\x06\\x1blP\\xe9\\xfeG]\\xb0`\\xc1\\x82\\x198\\xb5\\xbd\\xe9\\xa6\\x9b\\x0e\\xeb\\xad\\xb7^\\xdd\\xbf\\xf6\\xdak\\xab\\xfe\\xc2\\x85\\x0b+\\x9d\\x1f\\xb8o\\xbf\\xfd\\xf6J:ks\\xa3\\x8d6\\xaa\\xf6d\\xaa\\x7f\\xf3\\xcd7\\x8f}\\xba\\xe3\\x8e;\\x86\\r7\\xdc\\xb0\\xf2\\xb5\\x01\\xb4\\xad\\x9f\\xce@\\xff\\xe0B[h\\xd6\\x1f}\\xc6\\x1f _\\x1dy=/\\xdc\\xfb\\xdb\\xdf\\xfe\\xe6T\\xb4\\xdcv\\xdbm\\xc5\\x8b\\xcah?\\xda\\x0c\\x7f\\xe5iK\\x1e|\\xda\\x00S\\xadS\\x93\\x10\\n\\xf9u\\xd7]W7\\xb6\\xdcr\\xcbjT\\xc3\\xe0\\xc6\\x1bo,&\\xfd\\xe5/\\x7f\\x19\\x1e\\xf4\\xa0\\x07U\\x9e\\xce\\x03\\x88\\xc1l\\xe2*\\xb3\\xfd\\x04\\x7f\\xd2\\x04\\x04o:\\x88\\x18\\x0c\\x08S\\xe4o\\xb6\\xd9f\\xa3@RO;:\\t\\xd4\\xa7\\x08\\xdbn\\xbbmn\\x0fW^y\\xe5\\xf0\\x90\\x87<d\\x14\\x12\\xfa(\\x88|\\xb0\\xf7\\xde{\\x0f\\xcbW,\\x1f\\xf6\\xd8}\\x8f\\xe1\\xec\\xb3\\xcf\\xae\\xbc\\xfd\\xf7\\xdf\\xbf\\xce\\xf9A\\x9b\\x83\\xe0\\x02\\xd2\\x18\\x97\\xbc(\\x1b:C\\x8f{\\xbd\\x12\\xe1\\x17\\x05rN\\xbf.\\xb8\\xe0\\x82\\x81r\\x1dz\\xe8\\xa1\\x85\\xfa\\xfa\\xeb\\xaf\\x1f~\\xf7\\xbb\\xdf\\r\\xbf\\xff\\xfd\\xef\\x87w\\xbf\\xfb\\xdd\\x957\\xd5\\x10Nh\\x9aF0\\xfb\\xc1\\x0f~p\\xe8(\\xed\\xdab\\x8b-\\xfea:Z\\x16\\xa9\\xf7\\x1a\\xd0\\xdf\\x8b\\x00 \\xc2\\xd4\\x1c\\xda\\x054\\xa4\\xaf[\\x99\\xed\\'\\xdav\\xd7]w\\r\\xe8 \\xd8\\x08?\\xcap\\xd3M7Uqi\\x07F\\x1fw\\xdcq\\x95\\xf7\\xeb_\\xffz8\\xf9\\xe4\\x93\\x87\\xc7<\\xe61\\x95\\xfe\\xcdo~SB9\\xff\\xfc\\xf3G\\xa5Z\\xb2d\\xc9\\x80\\x8e\\xe7=\\xefyU\\xe6\\xc8#\\x8f\\x1c\\x16-ZT\\xd7i\\x1fCc-nD@\\xda\\x8bf\\xc3q\\xd2I\\'\\r?\\xfe\\xf1\\x8f\\xab.\\xeb\\xc4|B9\\xef\\xbc\\xf3*\\xef\\x87?\\xfc\\xe1\\xa0/\\x018\\xe3%\\xf6\\xd9g\\x9f\\xe9\\xec\\xd6\\xc9\\xd6\\xc7{\\xe1\\x9ak\\xae\\x998@C8i&_\\x87t\\xd3\\xc8\\xf1Z\\xbai\\xc8\\xa4\\x11\\xe7\\xb2\\xa0\\xb9\\xb7I\\xd3\\x88Ik4Yun\\xc4\\x12z\\x1d\\xb9\\xd7\\xb4cF\\x19\\t\\xb8\\x1c\\xf0\\x02\\xca\\xe2hL\\xaft\\xdfVs+\\x93\\xcf}\\xees\\x93\\x8b.\\xba\\xa8\\x8e\\xcf|\\xe63\\xcct\\xb2\\xfb\\xee\\xbbO\\x9a\\xa5\\xd6\\xd1\\x94\\xac\\xce[o\\xbd\\xf5\\xc4!_\\x99\\xc6\\x88:\\xbbn\\x16V\\xe9\\xc6\\xc0\\x89C^\\x8e\\xd5\\xe5\\xf5\\xf7r\\x9ds\\xf0\\'\\xbd\\xd5V[\\x15\\xae\\xe6Q&\\x8e\\xdcoJ0q(\\xd7,zlOz\\x8a@H\\x8ai\\x9fp\\xc2\\t\\xc3;\\xde\\xf1\\x8e\\x96?\\x0c\\xefy\\xcf{J\\xfaO~\\xf2\\x93+\\xcd$\\xb7\\xdf~\\xfb\\xba\\xe6\\x97A\\xac\\xe7\\x8f\\x7f\\xfcc\\xa5w\\xd9e\\x97\\xd2\\x9e\\xb89\\x994\\x87\\xb68\\x03\\x1aA\\xb3h\\xcd#\\x1e\\xf1\\x88\\xca\\xe3zhZ\\\\B\\xe3\\xfe}\\xdc\\x95\\x82\\xcc\\xfb\\x8b_\\xfcb\\xd5\\xf9\\xf0\\x87?\\\\\\xd6\\x027h\\x0c\\xaf\\xfa\\x97_~\\xf9\\x90x\\xc7%\\xc05\\x1b\\xb8\\xdc\\xc4=t\\xe9\\x7f\\x13v\\x15K\\xf9\\xb8 \\x99b\\nk\\x89\\xebQ\\x1e\\xe8K4>\\xf5\\xeaF\\xfbi\\xcc\\x1f\\xe9K\\xdf\\xd1\\x8ag\\xe1_\\xf2y\\xa7\\xe0\\x9c\\xeeM\\xb0\\xac;\\xff\\xc790\\xc5\\x1d\\x90\\x1a\\x8d\\x15\\xe0\"qq\\x81\\x06\\xd0\\x0e\\xb0r\\xe5\\xca\\x81\\xc6=\\xeca\\x0f\\xab\\xe0\\x15\\xca\\x7f\\xf1\\x8b_\\x0c\\xef}\\xef{+\\xf9\\xbe\\xf7\\xbdo\\xd8c\\x8f=\\x06\\x03\\x82\\xf8\\xf6h~\\xb4A \\x84\\xfb\\xa7?\\xfd\\xe9\\xe8\\xdb\\xaf\\xb8\\xe2\\x8aa\\xb7\\xddv\\x1b~\\xf5\\xab_\\x15\\x9e\\xe5\\xcb\\x97W\\xd0\\xfe\\xe5/\\x7fY\\xe9\\xe6\\x9aF\\x0bK\\xbb\\xb4\\x8dU\\xf0\\xd3\\x01\\xedj\\'\\xf1\\x8b\\xe6\\xe9O\\xfc\\xb4\\xfb\\xee)C\\x83\\x01\\xfah\\x7f\\xd2\\xf2\\xa2\\xed\\xc9\\x8b\\xb6\\xc7B\\x82O\\xd9X\\xa8:\\x8e\\xd4q\\xcd\\x12y\\x9e@\\xf0\\xa4N\\xe8\\x90\\x1f\\xfeL\\x9dy\\xe6\\x99\\x13\\xcc\\x16\\xd4\\x14L\\xe1\\x08F\\'\\x003{\\xe3\\x1b\\xdfX\\xa6\\xfd\\xdb\\xdf\\xfe\\xb6\\xf2\\x08Q\\x83\\xcdWV\\xda\\x10\\xf9\\xc0\\x03\\x0f,\\x86\\x87)\\x8f\\x7f\\xfc\\xe3k\\xa4\\x91\\x91\\x8eQ\\xdc\\xe9\\xa7\\x9f^\\xc4\\x1b\\x11\\x81\\xab\\xaf\\xbe\\xba\\x18CX\\x00#1\\xaaw+\\xf2\\xd3!\\xd7\\x84\\xaa\\x8d\\xd0\\x1b\\x86$_\\x99@\\x98\\x14\\xe6\\xcb\\xcf\\xe8\\x8c@{\\xbc\\x98\\xc8}\\xc1\\xcd\\xb5\\x02\\x023\\x822\\xa8\\x00\\x98\\xd7\\xdf\\xab\\xcc\\xf6\\x03O\\xdf\\x96\\xfe\\xf4\\xb8\\xd1\\x8a\\xce\\xb8t<v\\xff\\xb5\\xaf}\\xedp\\xc0\\x01\\x07L\\xa3y\\xd6\\xb3\\x9eUA\\xe5\\xa1\\x0f}\\xe8\\x8c\\xe0\\xd2:6q\\xb4\\nc0j\\xc2\\x99Q\\xa6a\\xa8\\xb4\\x80\\xe5\\x90n\\x8dN\\x1a\\xb1\\xe3\\x9129\\'\\xd0\\xc2\\xdbbR\\x1d\\xb9\\x973\\x1c\\xb9vF\\x07\\xfc\\xea\\xf4\\xf9\\xcd\\xef\\x8eie\\x1a\\xd3f\\x04lm\\x85.\\xf5\\xdc\\xd7\\xa6km\\xa4\\x1de\\x9a\\xf6\\xd7\\x91{};\\xbb\\xee\\xbak\\xd5\\xd1^\\xdf\\xa62\\x190\\xa8\\xaf\\xbd\\xbe\\x1e\\xfc-\\x9eU\\xbb\\xda\\x0e-\\x8b\\x17/\\x9e8\\x8e9\\xe6\\x98I\\xf3\\x02\\x93\\x16\\x83\\'mtX\\xc7\\x82\\xbd\\xf6\\xdak\\xf8\\xeew\\xbf;\\x08\\x86=0KZ\\x11\\xe0\\x1e\\xb8,\\x10\\xedp\\xee\\xcd\\xd7=\\x1a\\x107\\'\\xcd\\n\\x94\\xc9\\xfc\\xc6=Z\\xa1\\x9c1z\\x80Ud\\x98I\\x03Y]\\x02m,G\\x9d\\xd0\\xa4\\xecv\\xdbm7\\xd2\\r\\xaf{\\xca\\xc6\\xb5(\\x93\\xf6\\xb4C\\xc3Y#`\\xb9\\xe0\\xd1\\x8f~\\xf4\\xc0e^u\\xd5U\\x95^\\xbat\\xe9\\xf0\\xfd\\xef\\x7f\\xbf\\xdc\\xa1\\xb9\\x10\\xf8\\xde\\xf7\\xbeW\\xee\\'\\xc1X\\x9d\\x83\\x0f>x\\xb8\\xec\\xb2\\xcbF^\\xfc\\xf9\\xcf\\x7f\\x1e\\x1e\\xfb\\xd8\\xc7\\x8e\\x9a~\\xe9\\xa5\\x97\\x0e\\xefz\\xd7\\xbb\\xaa\\xdf/{\\xd9\\xcb\\n\\xcf\\x8a\\x15+\\x06\\xd7\\xbc\\x08@\\x8f>\\xb0\\xdc\\xf4k\\xea\\xd4SN\\x9d\\xfc\\xd7\\xf3\\xfe\\xab&OM\\xcbF\\xdf_5\\xba\\x1f\\xf7\\xb8\\xa4\\xde\\xec\\x9b\\x06\\x8c\\xbeOQ\\x8cv\\x9f\\x002b\\x9am\\xb6\\xca`X/\\xc8\\x08(\\x82\\x86\\x0b\\xb1\\x04\\x00\\x94o\\xda5#^\\x04O\\\\\\xab\\xb4\\x91\\n\\x01\\xc4\\x85\\x86\\x81\\xaf{\\xdd\\xeb\\n\\x8f\\x18\\xb9\\xef\\xbe\\xfb\\x0e\\x07\\x1dt\\xd0p\\xd6YgU\\x1e%k\\xdea0g\\x01\\x042\\xb9{2,\\xdemq\\xb9NyF\\x91?\\xf8\\xc1\\x0f\\x8ay\\xd2;\\xec\\xb0C]\\xdf\\xf6\\xb7\\xdb\\x86\\xdd\\xf7\\xd8]\\xd6@ \\x14)\\xfd\\xe6\\xca\\xb9\\xc5\\xa9\\xf5\\xda\\x0c\\x7f\\xd5\\xb4+\\x86\\xdbH1\\xc2_\\xd4\\xe6;{\\xee\\xb9g\\xd5G7\\x98\\xfa\\xf2\\x97\\xbf<y\\xf1\\x8b_\\\\\\xbe\\x18\\x03\\x820\\xfe\\x12\\x83\\x01m\\x0b\\xe3*\\xa3\\xfd`\\x92\\xf2\\xb1\\x1c\\x1a\\x1d&\\x12\\x16\\x88\\x80\\xc28\\xf7g\\xe3\\x89\\xb0\\xab\\xc2=?:\\x1dm\\xd6Q\\xf80\\xda50\\xe1\\xfa\\xc3\\x1f\\xfe0j\\xa8\\xb6\\xd1B\\x01\\xe0\\x03\\xaeO;\\xed\\xb4\\xd1\\xf2h\\xb0\\xb6\\xd5kn\\xa8\\xca\\xb4\\x18Z\\x02J\\xccS\\xd7\\x8c\\xda\\xd09q\\x0f\\xe3w\\xd9u\\x97\\xea\\xafJ\\x14\\x07?XH\\x18)\\x8d\\x1f\\x0f\\x7f\\xf8\\xc3\\x0b\\xaf8{\\xd7\\x9dw\\r[n\\xb5\\xe5\\x18\\xd8\\xdd\\xa3\\\\\\xa1O\\x9b\\xae\\xd3\\'\\x15\\xa7N\\xf8\\xf2\\t\\x93\\xff~\\xf1\\x7f\\x17\\x12?\\xd1R\\x02A<W\\x05\\x04?\\xf7\\xe4\\'(a\\x822=Be5\\x1a\\x01\\xd0Z\\xd6\\x10\\x01\\xc1!\\xcf}\\x0c\\x0b\\xc8\\x8b0\\xdd\\x93\\x8e\\xcb2\\xffy\\xe1\\x0b_8\\x98\\xcd\\x86\\x01:\\xf3\\xb1\\x8f}l\\x86\\xd0\\xe0v_]\\xa0\\xddK.\\xb9\\xa4h\\x96\\x86/s\\x9f\\x8c\\xce\\x12\\xdcO<\\xf1DE\\x86\\xa7<\\xe5)UO\\x1f\\xf4\\r\\x98\\xfd\\xf3\\x0e\\xdc\\x14\\x08\\x1f\\xd0\\x9b\\xb6\\xe4\\xf7\\xca\\x10%\\xb2\\xb4\\x12\\xa5\\xb6j\\xc0\\xdd\\xc5;\\x10\\xa8\\xb9\\x9b2Y\\xa7[p\\xc0\\xfe\\x07\\x0c\\xdf\\xf9\\xcew\\xaa\\xc3\\x98\\x1d\\xc6i\\xcc\\x11\\xc2\\xe3\\x9f\\x8d\\xba\\x82\\x10\\xe34\\x96\\x06!\\xa7%\\xa4\\xce\\x87\\x02\\xf5,U\\x04\\x10M\\x9b07\\x1d\\xe4Ft\\x8c\\xeb\\x00\\xa7\\x9ez\\xea`\\x99!\\xa6\\xfd\\xd4\\xa7>u8\\xea\\xa8\\xa3\\xca\\x85DA\\xc4\\x1f\\x16\\xf4\\xd1\\x8f~4\\xa8\\x8b\\xf1\\x98\\x18e`Q7\\xdf|S\\x1b1M/\\x90n\\xb0`\\x83b\\x1a\\x86f8\\x1a\\x81\\x10\\x04\\x807J\\x93\\xa1\\xfb\\xea\\xd6\\xbb\\xb4\\x83_\\xca\\x06zm\\xc7G\\xf7\\xf1F\\x7fA\\xfa\\x1b!\\x9an\\xb8\\x8f\\xde(\\xf5T[\\xbf\\x12\\xfd\\x87\\xb6\\xf40\\xbc\\xeaU\\xaf\\x1a\\xb5\\x14\\x02H\\xa3\\xb5\\x82 F\\x1dr\\xc8!c\\xe0r\\x1fc\\xd3\\x80\\xb4\\xc6YP\\x84\\x10\\x8d<\\xe8\\xa0\\xe9@\\x06\\xef\\x05\\x17^8\\xb4\\x01\\xe28\\xf4\\xdcy\\xe7\\x9dK\\xc8!\\n#\\xb6\\xdfn\\xfb\\xe1\\xaa\\xab\\xa7\\x03-Mz\\xe4#\\x1fYn\\xc6\\x90\\x19\\x10t[6)AIG#\\x83C\\x1e\\xa6\\x1d\\x7f\\xc2\\xf1\\xc3^{\\xee%Yt\\xb3,\\x03\\x8c(\\x1aZ1\\x9c\\x05\\x80\\xac>P\\x9c\\x04Z\\xf9\\xe1\\x83ke1__\\rF\\x00A\\xd2r\\xda\\x0e0Z\\x9dXYe\\xb6\\x1fV\\x1a\\xcbOx\\x10\\xeb\\xd2\\xeeT\\xabT\\x8b\\x8b*\\xf2\\xa7\\xe9\\xb0\\xceb\\xf0~\\xfb\\xedW\\xb8\\x04$yFe\\xb1\\x08\\x8b\\x91\\xb4\\xb8\\xad\\x1fU\\x19Dq/\\x08^\\xb0`z\\x95\\xf8\\xf4\\xd3\\xcf(\\x1f\\x1d\\x82t^[\\x98\\x9e9\\x8e\\t m\\x86\\x1bp3Vf\\xd1\\x03\\x94\\x83Sg\\x13\\xb0\\xf9\\xf7E-(\\x9a\\xa8\\x02V\\x9b\\x91`\\x14D\\xdeq_:n8\\xf2\\xa8#\\xabL\\xdc\\xc7%+.\\x19v[\\xb2[\\xe5\\xe5\\xa7g\\xb8~\\xf7@\\xc8\\xee\\xc7U\\xf7\\xf7\\xee\\xef\\xebZ\\xed\\xd5\\x01D`x\\x08\\xa3I\\xf2\\x04&\\xb0\\xc1\\x86\\xd3>^^L\\x98\\xf001Cf~\\xf7\\xd6[W\\xb5\\xc0\\xb6\\xf7888\\xe7\\x9cs\\xca\\xacc\\xb6\\xcc\\x93\\x95\\x11f\\xfc&\\x9c\\xe7\\x9e{\\xee8\\xe2\\x10T\\x95\\xcf2\\xb5\\xe5i\\xe6O\\x18\\xea\\x01A\\xdf\\xc8\\xe6\\x9b\\xdf\\xfcf\\xa5\\x8f=\\xf6\\xd8{\\x14\\xe1\\xde\\xf8Eq\\x8e>\\xfa\\xe8\\xe1\\xfd\\xef\\x7f\\x7f\\x95\\xb1\\x92MH\\xfa\\x0b\\x1fp\\xddk\\xb1\\xfe\\xf7\\xe9*4\\x87?b^\\xef\\xf6\\xa6\\x1a3M\\xbc\\xca\\xf4h\\x00\\xe6\\x00\\xb3d\\x0cH\\xe0\\xe56\\xb8\\x9f\\xd3N=m8\\xf4\\x91\\x87V\\x19\\x9av\\xcb\\xaa[\\x8a\\x1120\\xd8\\xbc\\xc3\\xb8>\\xa3\\r\\xcc\\xddi\\xa7\\x9dF\\xcd\\xfe\\xf9\\xcf\\x7f^CKe\\xe3^b\\xc2\\xd1\\xechr\\xdc\\x8a\\xf9\\x00\\xf7\\x11\\xb7\\xa4-x\\xd1\\xf6\\xa7?\\xfdIrx\\xees\\x9f[\\x8c\\xd4\\x87\\xc4\\x9006\\xed\\x08\\xaaFOFX\\x19\\x1c\\xe8{\\xca\\x15\\xa2\\xf6\\x93\\xf2I\\x87\\'I\\xdf\\x9f\\xe7\\xf4\\x89w\\x01\\x0b\\x12X0c\\xe5\\xca\\x95\\xe3<\\x84\\x06\\x9e\\xd4\\xd6\\xf7\\x97-[V\\x05\\t\\xc3Z\\xd3\\xe3\\x1e\\xf7\\xb8!K\\'\\xeb\\xafOxS\\xe3\\x9a\\x94g\\x01\\\\\\x8d\\x0e\\xa6\\x13\\xd2\\xe9<D\\x87\\x1dvX\\xb5A\\x08\\x97^6\\x1d\\xf8\\xaf\\xb9\\xfa\\x9a\\x12vo1\\x08M\\xc0U\\x8f\\xc5\\x1a(\\xec\\xb8\\xe3\\x8e\\x92\\x95fiq\\x9f\\x18K@\\xea%\\xf0\\xb3&\\x02\\x88_\\xdft\\xd3MJ9,\\xf9d\\xa9\"\\xca\\x10z#\\x1c\\xf9qQ\\xf1\\x1a\\xb9W\\x04\\xdcO?,\\x96\\x85\\xc4\\x15\\xd7\\x13C\\xb85FJ\\xe3\\x8d\\x96\\xc6\\xf8\\x98\\xb6\\xc0O\\xf3XN\\xdc\\xcf\\xe1\\x87\\x1f>#\\xb0\\x85F\\xccKg4\\x86!\\xe9xf\\xbf\\x18\\x10F]t\\xd1\\x85mqq\\xc9\\x18\\xd8L\\xd2\\xc4,\\xd6\\x04\\x9e\\xf1\\x8cg\\x8c\\x16\\x9b6\\xda3\\x9b\\x9a\\xb0\\x19h\\x80\\xb7\\xbc\\xe5-E\\x0b\\x01\\x85\\xbe\\x0c\\xbf\\xb9b \\x00\\x8bq\\xfat\\xf1\\xc5\\x17W\\x9e\\x89\\x19\\x1ac\\x9d2c!\\x11\\x92\\xbc^@\\xd2\\xf7\\x17h\\xab\\x8fO\\xf5<D\\x06\\xe2\\x11\\x90\\xa1\\xa6)\\xbdt\\xb4\\xc3\\xb4\\xdf\\x04\\x90V\\x9aX\\x81\\xc5\\x8b\\x17W\\xe7\\xe2\\x03!\\x8f\\xc43\\xf3\\xc5\\x04K\\x05a\\x92\\x95\\\\\\xc3\\\\#\\x8b\\x04\\xf5\\xd9~tvg\\x05ptaZ&t\\xe2\\x07\\xb7\\x18\\xb7\\x86^\\x80\\x164\\x00\\xb4\\x8bq\\x9f\\xfd\\xecg+\\xad<\\xc5\\x02\\x94\\x06\\xb0,t\\xcff~o\\xe5\\xca\\xcd\\x95@\\xe0\\xd6\\xffx\\x91&\\x87{\\'@\\x88\\xe4\\xaa\\x801>m\\xca\\x1a\\x14wbi\\x9d\\xd6F\\x9b,\\x99\\x83hT\\x18\\x81\\xf9f\\xc5 \\xbe1\\xc3C##\\x9d\\xbd\\xf0\\x82\\x0b\\x87\\x9dv\\xd9\\xa9\\xca\\xec\\xf8\\x90i7dI\\x1el\\xbd\\xf5\\x83\\x87%Kv\\x1f\\xadJ\\\\r\\x88\\x01Q\\x98\\x9f\\xfd\\xecg\\xc3\\x82\\r\\x16\\x0c[m9\\xbd\\xd2\\xac\\x9e8\\xc3\\xeab\\xe5\\xe6\\x1aFlg\\x9cq\\x86\\xdb\\x15\\xe30\\x96\\x1b\\x8b\\x12\\xc9\\xef\\x85\\xc1z\\x1c\\xfa\\xd8\\x97\\x99+\\x81\\xe0]\\xdf\\xd68\\xca\\xd2 \\x08\\xb3\\xb9\\xab\\xfe\\xd9\\x87\\x8e\\x12X\\xef\\x93\\xb9\\x87X\\x85\\xba\\xe9\\x80\\x0e\\x114Hg#,\\xf8\\xe12\\x06\\xcf=n\\x90\\xa6\\xc6\\xcd\\xa9w\\xca)\\xa7\\x8c\\xf80\\x9a \\xd55\\xe2\\x02\\x9bn\\xb6\\xe9p\\xdd\\xb5\\xd7\\xd5\\xfcD\\xfa\\x9d\\xef|gM\\x12\\xd1\\x98\\xb6\\xe5s\\xb3\\xf1\\xfdhe5\\x86\\xdc\\x11\\x9a<t\\xc4\\x13\\xa8\\x1f\\xfab\\xc1\\xea\\xff++\\xd6\\xd6\\x9a@\\xdaw\\x06\\xeba\"\\x82t6D\\xb9!\\x18\\x1b\\xc1\\xf0\\xbf\\xf1\\xc1\\x84\\x81\\xd9\\x04\\x91`\\xaa.\\x1c\\x11\\x86\\xbaav\\x18\\xce\\xad`v\\x18\\xae\\xae{,\\xc9\\x819:\\x8d\\xa8\\x1c\\x8fz\\xd4\\xa3\\x86;\\xef\\xb8\\xb3\\x0e3x\\xf8\\xcdE\\xd0\\xe9\\xb8\\xf1\\x86\\x1b+\\xe6\\xa0\\xd9\\x81\\xdet*8\\xd2\\x1e\\xc6:,\\xec)\\x1b7\\xa5\\\\h\\xd4\\xbe\\xc3 \\xc7`\\x02M\\xc1\\xe3\\xdc\\xf7/#Og\\x8a\\x1ce\\xd6\\xf7XXxI\\xc0\\xc1\\xe3~\\xd6\\xe7RV\\xfb\\xea\\xa7\\x1f\\xd3j\\xecn\\x83^\\xb3\\x10`\\x06\\x1d\\x08A}\\x19\\xf74\\x96af\\x88\\xd0\\xb10\\xc3\\xbd4\\xa6\\xbck\\xd6\\x82\\xa9a\\x86|\\xd7p\\x81\\x08\\xdd\\xc2\\x1c\\xc8\\x8cY\\x9d\\xf8Z\\xb1\\xcc\\x10<\\xcf\\xf3\\xc5\\x16\\xf5@\\xf0(\\x8b\\xf9Y\\x02\\xd1\\xc6e\\x97^6,\\xd9}\\xc98\\x9f\\xe1\\x8a\\xfb\\xb61\\x07\\xed\\xf2\\xf4cu\\x10z\\xb8\\xe1\\x94\\xf1\\xe4\\xf4\\tOx\\xc2\\xc8CV\\xe6~\\xca\\xc2\\x83\\x1eq8\\xa3\\xc9\\xf0R[\\x81\\x19\\x02\\x91\\x99N)\\xdc#\\xd3I\\x8c\\x94\\xaf1\\x00\\x11&e\\t\\xa02g\\xfd\\x10\\x08\\xc2\"\\xa0\\xdc\\xd6\\x91\\x7fT\\x0f\\xe1\\xac(\\xc3\\xd7\\x10\\xac\\xad\\x0cW\\xd1`>\\x14\\xe6\\x1b$X\\xc6a\\xd5Q\\x10\\x82\\xa0\\xa1Q&\\xee\\xeeiO{Z)E\\xb6;\\xa5~\\xb4\\\\:\\xed\\xe5\\x1c\\x85\\n\\xf3\\xf5!\\xf3\\xb4\\xbe?\\xaeSgu\\xcc\\xd6\\x86\\xfc\\xe0\\xc1\\x93\\xe0\\x0e\\x9e\\x19\\x02\\x81L\\x01\\x80\\xf9\\xe9H\\xd2\\xce\\xca$?\\xc8R\\xc7}\\xcc\\xd0\\xa9t\\x94P1\\xb2\\x87\\x10\\x943B\\xd3\\x11\\xe5\\xe0S?\\xeb;\\xf2\\x08 \\xedJ\\xdbc\\xf5\\xa4\\'=i\\xacg\\x89\\x1c\\xe4Q\\x80k\\xf8\\x8d\\xaa\\xb2\\x90\\x88\\xb6\\xeb\\xaf\\x9b\\xd6\\xd0X\\r\\x9c\\x8e(\\x0c:BK\\xfa\\x00W\\xf2\\\\S\\xda\\xc4\\xa1\\x8c\\x1e\\xf3\\xc0+u\\xd2g\\xca\\x15\\xc5\\xc3\\x0b\\xf3\\xa8\\xa4\\xe1\\n\\x0f]\\x83\\x19\\x02\\x91\\x91NC\\x9c@,_\\x03!*\\x8ct\\xd6`\\xb4KZc}\\x83\\xea\\xaa\\x17B\\xa5\\x01B\\x82\\'\\x16\\x11\\xfc\\xa9\\x1fZ\\x94\\xc7LV\\x13\\x0b^\\xd6&\\xacbS\\xe65\\xac\\x85\\x1b3\\xe9K0&\\x1c\\xb8\\xd3\\xce\\xfa\\xeb\\xad?l\\xbb\\xdd\\xb6\\xd5vp;\\xf7\\xb4\\x84\\x06}\\x8f\\xa5\\xc9S.}\\xd0\\xdf0<\\xb8\\xd1\\xe8~\\xe8Ckx\\xd8\\x97\\xe5B\\x03\\xdapO\\xb9\\xb4{\\xaf\\xf3j\\xa5\\xc2X\\x15R \\x95\\x93V\\x06\\x82\\x1c\\x10\\x92\\xbc#\\xae\\xc9=\\x1a\\x1d\\xd7\\x06\\x87\\xc6\\x1d\\xf0\\xd0\\xc6t\\xd6=8\\x82_\\x1a\\x1ei\\x9du`X:\\x95\\x81\\x80\\xfb\\xdc\\x91\\xb52\\x07\\xdcG\\x1cqD\\x9dS\\x86u\\x08\\xbc\\xc1s\\xf2)\\'WL\\xb1\\x12m8\\xec\\xb0\\xfa\\x80\\xde\\xd9\\x9a\\xaa\\x9f\\x98\\xebH\\x9f\\xd1\\x060;\\xd3\\x03\\xd7\\x0e\\xcfL\\xb4\\x13\\x85TO:}A/\\x1a\\xb5\\x13\\xbc\\xf8\\x90\\xb6\\xc3\\xcf\\x19\\x16\\x82I\\x90\\x00\\x08b\\xc6\\x95\\xd1~TR&\\xccI\\xb9\\xdc\\xd7\\x18S\\xb6d\\xc1\\xc7\\x82,D\\x06\\xaf<\\x1d4bJp\\xeb\\xf1\\xb9\\xaf,\\\\\\x01\\xe9h(\\xc1\\x03\\x9ao4\\x14\\x97a$h\\xa4\\x05\\x92\\x17a\\xa0\\x1bh\\x13S\\xf2H@\\xdelA\\xc8\\x03\\xfa\\x1f\\xba\\xf0\\xa1\\xa7\\t~t\\xe8k\\xcaL\\xd7\\xbaW\\x91S\\x07\\x9e@x\\x97\\xbe\\xb9\\x17A\\xa4\\xcc\\x0c\\x81\\xc4|\\xddT\\xa9G&\\x1d\\xc6\\xa42d\\xa4\\x1d\\xc19\\x1b.r\\x19\\xb1\\x00e\\xe0\\t\\x11\\xeab&\\x81\\xd1\\x1e\\xa0Sp\\x87q\\xca\\xab\\x9f\\xf6\\x83\\x1f3\\xb5\\x07\\xc4\\x17\\x16\\x18!\\xb0\\x92\\x04\\xda\\xc4\\x07\\xe5\\xb4\\x91\\x00k9\\xdfz\\x98e\\x97\\xec\\xf7M\\xdb\\xca\\xf6@\\xd3SO>\\xfa\\xd2\\xa7+\\xafhK\\xff\\x8b\\x17\\rV\\x1d\\xa2 \\x14\\x0f=\\xac\\x05\\xa0]\\x7f(E\\xfaI\\x11{\\x08oR\\xd6\\xbd\\x19\\x02\\x91\\xa1\\xe1\\xd5\\xc1\\xea\\xf2!\\x8a\\xbf\\xef\\xeb(\\x1b\\xcd!\\x08\\x84\\x84\\xb9\\xca\\xf1\\xa3|\\x7f/$u\\xc2x\\x1a\\xa8\\x13\\xe9\\x80X\\xc1\\x1a(\\x0c-\\x0f\\xa4\\xbc\\xb4\\xb5/\\x81\\x9eP\\xc2H\\x0c\\x0c.e\\x8c\\xb2*\\xbd\\xf1\\xbd[7\\xe5\\x83\\xb8W1\\xc8&\\x88<nu\\x8f\\x12X\\xfb\\x92\\x07\\xe0?\\xe3\\xcc3\\xea\\t\\xa7\\x91]\\x800Lh\\x81G\\x07p\\xf61C~\\x94\\xc6u\\x0f#\\x7f\\x1aS\\xe6\\x1c\\x1ac\\xc7\\x8d\\xd4M+\\xc6M\\xd7\\x8da\\xb51[\\x1e\\xc8\\xbd\\xc6\\xb4J7\\xed\\xaa\\x8d\\xd76\\x7f\\xc3\\xd1:X\\xf9~\\x9a\\x95\\xd5up4\\xa6M.\\xbf\\xe2r~n\\xdcK\\xd6,\\xb5\\xd2\\xf2r\\x04AcLm\\x1e\\xbfx\\xf9\\xc5\\x93\\xb6\\xa3$\\xd9\\xd5\\xce\\xe7?\\xff\\xf9q\\x0f\\x95zm\\xd9\\xa6\\xea\\xb7\\x98T\\xf9My*\\xdd\\xac\\xa3\\xee\\xb9\\xdf\\x96\\x95&m\\xdf\\xf1\\x88\\'\\x17M\\x81\\xaa\\x8f\\xe8\\x0c\\xe8\\x87\\xa3Yr\\xb2\\xc6s=1l\\x8d\\xfe\\xafBk\\xbd\\xcc?\\x1a>j\\xc7=T\\xc4\\x94\\xb96\\xc0U\\xd14\\xe7\\x80\\x80.h\\xd38\\xb0\\xb2=:`e\\xe6)\\xea\\x03\\x9a\\xec:Z\\xca\\xc2\\xbe\\xfa\\xd5\\xaf\\xd6\\x02e\\x16H\\xb9W1\\xe5\\xf8\\xe3\\x8f\\xaf:\\xf6M\\xa1O~\\xe83l\\x96\\x8e+\\x84\\x87\\xd5(\\x17\\x97\\x15K\\xe4\\xa2\\x80\\xc5\\xd5\\xb8\\xc5X:|\\xd6\\xf6b\\xc1\\xa1\\xab*\\xe4g\\x14\\xcd\\xff\\xe2\\x05\\xed\\xa6\\xfd\\xb4\\xda\\x01X\\xc0l\\xc8\\xfd\\xdc\\x8b\\x059\\x83\\xe4\\xbbnko\\x93\\x16#&\\xedyMi1mn}\\xac\\xdd\\x89\\xcd\\xfd\\x8d\\xbb\\n\\x95m\\x93\\xc8q\\xa7\\xe0\\x85\\x17^8iB\\x18-H\\x9d\\xc5mWas\\xb9c\\x9eW\\x1c\\x1a\\x13\\xc7t\\x13\\xc8\\xb8\\xf3q\\xb6\\xd5\\xa8\\xefh\\xf3\\x8d\\xc9[\\xdf\\xfa\\xd6I\\x1b\\xe0hr\\x04\\x16\\x13\\xe8->y\\xf7\\x0e\\x01\\x1a\\x96u\\xf0\\x9f\\xe7\\xc0\\x9c\\xbb\\xac\\x98k\\xba\\xca\\x85p=\\x02n\\x02?\\x17\\x00R6\\xf9qY\\xb9\\xaf^\\xee\\xc1\\xe3\\xd1@\\x96W<\\xd2\\xddh\\xe3\\x8d\\x86\\xa3\\x8f:\\xba6\\xc7\\xc1\\xc7\\x85yN\\x92\\x05=.\\xce\\xb6Yum}\\x02y\\xde\\x9e\\x91\\x10\\xd7\\xa3\\rm\\xd9\\xd6\\x04\\xb2+Q}\\xc0-\\x85\\xb6\\xcah?q\\xbb)\\xd3\\xaf\\x184\\xed\\xafb\\xfa\\xf7\\x93\\x9f\\xfc\\xa4\\xf6~\\xc9\\x80\\'.\\xaf\\n\\xf8\\x89\\xa9\\xcc\\xe5\\x99k\\xc9\\xc1\\xddpE\\x027\\xd7\\xe5\\x08$\\xd8%\\x9d\\x80-\\xed\\xba/\\x1bW\\x97\\xb2\\xed9\\xfe\\x84;h\\xcfp\\xc6\\x8d\\xd3\\\\\\x8b.\\xe6h#\\xb5\\xc9\\xd7\\xbf\\xfe\\xf5\\xda\\xfc\\x9c\\xbc&\\xd0\\xba\\xcf%9\\x0c\\x04\\xb8!\\xf7\\x1b\\x93\\xc7\\r\\xd9)\\x97z\\xca\\xb4\\xd5\\xef\\x11\\xb7\\xeb\\xde\\xadq\\x93p9R\\xa7-@\\xd6\\xdbiMA&\\x8e\\xd5\\xc1\\x9c[H#f\\xb5\\xd0\\x88\\xb9\\xcf\\x10;\\x0f\\xb32aT\\x06\\xd0\\xf4&\\x80\\x1ab\\'\\x88\\xd3H\\xf7\\x13\\x18\\xa3\\xc5\\xcd\\xff\\x8f\\xda\\xca\\x12h`\\xb4\\xd7@\\x00H\\xe7y\\x88\\x80\\xed:xs\\xddvt\\xb6\\xdd\\x02\\xf7N\\x012\\x88P\\xdf\\x8eI[\\x97\\xcc\\x85\\x12\\xe8\\x9b0f\\xcc\\x9d\\xb4\\x1d\\x88\\xd5\\x18\\x16\\x7f\\xedk_\\x1b\\xf7\\x05\\xc87X\\xe8a\\xce\\x05\\x82i\\xdcS\\x00\\xe1\\x18\\xdc\\x13\\xec\\x1e\\x17\\x90\\xc7\\xb1\\x99s\\xa4\\x0e\\x066\\xeb\\xa9IWFZ\\xdc\\x8a\\x89^&\\x86\\xdc\\xc1\\xd5W]]\\x9b\\x9f\\xe3\\xd6\\x9c\\xb9\\x85\\xb8<m\\x00\\x8c\\xc8\\x82\\xa3{\\xf2=\\xeb\\x01\\xcfy\\xces\\xeau>O&\\t\\x17\\x10\\xb6\\x91\\x98\\xc9\\'\\x88rXvy\\xfb\\xdb\\xdf^y\\xda\\xd1\\xaf\\x00z\\x08\\x97 C\\xb3{\\x14\\xe4C\\x1f\\xfaP\\x15;\\xe2)G\\xd4\\xa3\\x80\\xd4q\\x9es\\x81\\xf4\\x8d\\xdd\\x1f\\xd7:\\n\\xd2\\xf9t\\x16c\\xcf9\\xe7\\xec\\xb6Ts\\xc0(\\x00\\x8c\\xeb\\xb5X\\x1dZ*Nx<\\r\\x12_l\\x92\\x00\\xcf~\\xf6\\xb3\\x87\\x1d\\xb6\\xdfa\\xb8\\xfd\\x8e\\xdb\\xc7\\xe7Apx\\xf6\\xb2t\\xff\\xa5UF[\\x14D\\xdc\\x8ab\\xd9&J\\x01\\xa2|\\xf1\\x00&\\xce\\xa1Q\\xd9(\\x00Dg\\x9f}VS\\xa8GT\\xbd\\xe0y\\xc0\\t\\x84&\\x82\\x04\\xc3l\\xa6\\xd8|\\xf3\\xcd\\xda\\xf6\\xd5\\x0bjki\\\\\\x9d\\xce\\x13J\\xd2\\xea\\x08\\xde\\xce\\xd9\\xcf\\xa5\\xcc\\xa7?\\xfd\\xe9q\\x87\\xa6A\\x00k1g\\x88\\xabS\\xdf\\x91y\\t\\xeb\\xc9\\xe2bf\\xe6\\xdc\\xec+^\\xf1\\x8aZdD\\x1f!\\xc8c\\xf5qK\\xda\\x92\\xb6?\\x00\\xd8\\xbc\\xc1:Y^\\xac\\xf1\\x01\\'\\x90\\xeaI\\xfb\\xc9~\\xd8\\xc4\\x05\\xb1\\xe4\\x93\\x9f\\xfc\\xe4\\xf0\\x9a\\xd7\\xbcf\\xdcY\\x92\\t\\x9d\\xb2\\xc0\\x86\\xbd\\x08\"\\xbb\"m#\\xb2,\\x12\\x8b\\xc1\\xf8\\xc40V\\x00V\\xb6I\\xa7\\xfd\\x05Ig\\xb9H].\\x18$/\\x8b\\xa9\\xf2\\x08\\x94uE\\x89X\\x8f\\xe7!\\xd9\\xe9I1\\xbc\\xce\\xf6\\xd2\\x97\\xbet\\xb4\\xb4\\x07\\xb4@0#.\\x8c@\\xbc\\xd6m\\xebh,\\x02c\\x13+0\\x08\\x18&\\xdb\\x0e\\xf4\\xa5/}\\xa9\\xd2\\xe2\\x0eWD{{\\xe0B\\xe2\\x16\\xad\\x91al\\xf69\\xbbg\\t_\\xfc:\\xa3\\xed]\\x06y\\xdc\\x9c\\x1d./\\x7f\\xf9\\xcb\\xcb}\\xc1\\x11w\\xa4\\x1c\\xb7\\x16\\x17F\\t\\xb8\\xcc\\x93\\xda\\x86\\xc4\\xc3\\xda\\x06\\xc2\\x82F\\xfc\\x03\\x16\\x9a0F\\xda\\x9b\\xe9O\\x9a\\xfb\\x9a\\xb4@:\\x0e3[\\x07\\xc7\\xf7\\x13[ \\xaf!lcb\\xd5i\\xcb\\xf5\\xf5\\xc1\\x81\\xc6\\xacJ\\xc3\\xe5h\\xda\\\\C\\xd2|<\\xc1\\xcd\\xc6\\xfcz\\x17\\xd0\\xb0\\xdaa\\xf6m\\xd8\\xdeC[x\\x9c\\xfc\\xe8G?\\x9a\\xacX\\xbe\\xa2\\x8e\\xf6\\x04\\xb1\\xe80\\xd4n\\x96RG\\xb3\\x88\\xcak\\xf3\\x9b\\x89\\x03}\\x0eka\\x86\\xf5\\x8e\\x07\\x9c\\x85d$\\x96\\x89\\\\\\x9e\\x18\\xae\\xb8dE{ulU[\\xcb:p\\xb4\\x10.\\xa3\\xd7N\\xbe\\xfb#\\x1f\\xf9\\xc8\\xf0\\xf4\\xa7?}\\xd4~\\xfe\\xdb\\x9aS\\xca%N\\xd0\\xd6\\xc6p\\xa7\\xd2h.\\x89\\xa5\\x00\\xe5\\x05\\xf9\\xfd\\x96\\xee7\\xe2\\xf1<\\xa6-\\x8f\\xb6Q\\xd5\\xf4j\\xb4UcC\\\\/\\x02eh\\xceu\\xb1\\x90\\x8c\\xf6l\\xcc\\x00\\xd6\\xd5\\xf2\\xad\\x13\\x8d>\\xa0 Z\\x1a\\xa2[\\x80\\x9d8\\x1a\\xb3*\\xab\\xc5\\x86\\x19o\\xf76\\xdf?\\xe3\\x8d\\xe0\\xb6\\xb8\\x98\\xaa\\xe3\\x99\\xb6\\xb7\\xe0?\\x1e\\xda\\x00\\xb4\\xde\\xc1BXRs\\x7fu\\xb4\\x98R\\xd6\\xa8L\\xea\\xb9\\xeeWo\\xdb\\xd3\\xc8\\xb2\\xc0\\xe6\\xb2FK0Yl\\xfc\\xbf\\xcf\\xd1[\\xf5}\\x9e\\x87\\x94\\xc8\\xe6\\xf1\\x8f@\\x08\\x8ct\\xec\\x1cI0N~\\x9ey(\\xe3^[<\\x1c7m\\x8b\\x13\\x1eN\\x19\\xaef\"H{=\\xd30\\x1a\\x03b\\x83\\xe0m_\\xd8zS\\xd3K}\\x8d\\xd7e\\t\\t\\xf6\\x1e\\xd7.[\\xb6\\xac\\xcag$&\\x96\\x893\\x19d\\xd8\\xc4\\'6\\xd1\\xfe,\\xc1\\xc0\\x8b\\xa6\\xa4\\xbd\\xce\\xa1}\\xb4d\\x1e4o\\\\\\x16\\xa22<L0\\x8d\\x1bI\\xa7\\x05C\\xaf:\\x00e\\t!\\xc1\\xd8[\\xb2\\\\\\x80\\t\\\\\\xea\\xc7=$\\x8d\\xb1\\x84!\\xd0{\\xd7\\x0f\\xd8\\xa1i\\xefq\\xda\\xe2N\\x94\\xe7\\xba\\xd4\\x07-6\\x14\\x13\\xb3\\xf3\\x1e\\xe3\\x957K\\x8f\\x90\\xd0o\"HX\\xc0\\x88\\xea\\xee\\xbf\\xb7\\x95\\x82\\xcd6\\x1d\\xe9\\xf1r\\xed\\x9b\\xde\\xf4\\xa6R\\x00e\\xec\\xe3\"\\xa4\\x08\\\\\\xde\\xbc\\xb1\\x90U\\xedE\\x9f0\\xde\\xe4M\\x87\\xc3\\xc8\\x0c)1(\\xe3\\x7fCG\\xf1#\\x1aiS5\\xa1\\xf4\\x9dK<\\xc8\\xd9\\x0c\\xdd\\x10\\x18\\xfe\\x80\\xe7\\xff\\x84\\x10\\xbfN\\xd0bE\\x1fW|\\x80\\x87\\x05d\\x07gsi%x\\x1b\\xd0\\xf3\\xf6\\x18\\xc1(\\x93ao\\xe8\\x10\\xf3X%0L6oI?\\tC\\x1f\\xb5\\x19\\x8b\\x9d7\\x02\\xd9b\\xf3-\\xc6\\xc9\\x1e\\x06\\x12\\x88N\\xf5 \\x1d\\x8b\\xb0\\x9a*H\\x9au\\x03\\x8c\\xb0\\x8bQg\\xa3\\xed\\xee\\xd3\\xeaX\\xd5\\xa2E\\x8b\\xaa>K\\x13t\\x01\\xab\"\\xe8\\xe0\\x8d\\xf5\\\\q\\xe5\\x15C6\\x81[c\\xa3\\xfd\\x04\\x01b\\x9df\\xe7\\\\\\x1c \\x903\\xcf8s\\xd8w\\xbf}+\\x9dA\\x87e\\x97\\xcd\\xb7\\x98\\xde\\xfa\\x93\\x97k\\xab@\\xfb\\xd1\\x1f\\x07A\\x06\\xe6\\x8d\\xcb\\nA\\xfd9\\x8c\\x8d\\xa5\\xa4\\x03\\xca\\xf0\\xf9\\xb4\\xdal\\x17p_\\xc6\\xfev\\xd0\\xa7\\xbc|\\xd6\\x15\\xb7\\xe2\\xd5\\xea\\x8f\\x7f\\xfc\\xe3U&\\xaf/\\xf4ka\\xca\\x130\\x86k;\\xf3\\x85\\x08\\xcb}@h\\x84H@\\x89a\\x98\\xaa|&\\x9e\\x04m\\xad\\xcb\\xbc\\x07> v\\x98\\x84\\xde\\xd1\\x96e\\xc0\\xb1\\xc7~\\xaa\\x1d\\xc7\\xd6u\\xda\\x987\\x16\\xa2C1e\\x0c\\x8d0P\\x1b\\x06;\\xc7\\xb5\\xd0@G\\xee\\x11\\x10\\x06Ig\\xf6,\\xe8\\x9bx\\xc5epk\\x02\\xa9|\\xafV\\x80\\xbeMi\\x8c\\x11g6\\xdc`\\xc3\\xe1/7L\\xbf\\xcf\\xe8}\\x16\\x83\\x85\\xbc`\\xca\\xf5\\xb1\\x1a\\xc2`\\x85\\xa9\\xc7\\x15fY\\xc4\\x9e\\xaf\\'\\xb5\\x9d\\x95\\\\jb\\x91\\xb6LJ\\xf3\\xdaE\\x94\\x02\\xcd\\xf3N \\xbd\\x00t0\\x8cv\\xcd2\\x92N<\\xd1\\xd1>\\xf0r):\\xcc\\x1a\\xb2\\x8cO\\x18\\x98\\x17\\x97\\x909K\\xfc<\\xdcbH\\xeaJ\\xf3\\xf9\\xde{q\\xb6\\xfb\\x04\\xc0\\xcb=\\x85\\x86\\xace%\\x90+\\xa3\\r}\\xc8\\xb3z\\xc2C7FG \\xca\\xb0@\\x82\\x02\\xdf\\xfa\\xd6\\xb7\\n\\'Af\\x19_\\xa5y\\x0f\\xad\\xa35\\x8b6\\x93u\\xed0w\\xe8\\xa11g\\x1c\\xdf7\\x06\\xd6\\xcc\\xb81c\\xc6\\x17\\x84\\xda\\xa8\\xa6=K?k\\xd2\\x9e\\xda\\xcd\\xf8t!<M\\xd3\\xebhV6\\xa2u\\xedhVY\\xbbD\\x9c\\x1d)\\xa3NsKu\\xb4\\x00=\\xe3\\xf3\\x87\\xd2M\\x005O\\t\\xcd\\x10\\xcb\\xcb\\xac\\xfc\\xf5\\xaf\\x7f}\\xd1\\x87\\xde&\\x9f:\\xe6\\x95\\xcbj\\x84\\x97\\xe6\\xd0\\xc8\\x8c\\x8cd\\xd0\\xcc\\xd6\\x97:GK\\x9di\\\\\\xfc\\xbc\\xe0\\xc9W\\xd34\\x1a\\x0fX\\x8azq\\x07\\x9f\\xf8\\xc4\\'j=\\xcah\\xc9&7`\\x97\\n\\xb7\\x93 \\x0c/\\xb7\\xc8\\xeden\\xa3\\x9c\\xbcXg\\xce\\xf0\\x1a\\x02\\x03\\xd7\\xf2\\xe3\\xc2\\xd4UG\\xfb\\xb1\\x10\\xee\\xb2\\xff\\xf0\\x8d\\xb6X\\x07\\xab\\x89\\x9b\\x9d7\\x16BszM\\xca\\xb53p\\xee\\xcb\\xb4QRi\\x9f\\x1d$\\x0e\\xd0\\xf82i\\x93\\xbcQ\\xdbf?v5\\xebV\\xaf\\x87\\x16/*\\xd9>R3q\\x98y\\x03\\x96\\xd0C\\xf2\\xe5\\xa1#\\x16\\xd0\\x97\\xc9=\\xf7\\x03\\xca\\xb5\\xb9I\\x1d\\xfa \\xedq\\xb3\\xa3\\xb9\\xc1\\x91V\\xb4;\\xe6\\xcd(\\xab\\x11;\\xfa\\xe8F\\xd8\\x8ck\\xe9@\\xaf\\x81\\xads3\\xe6\\x14\\x82$\\xdf\\x9f\\xb5#q\\x86\\xb5D\\xfbl\\x8a0B\\x92\\xee\\xb5\\xdcG\\x0b\\x04[\\xc02\\xc5\\x01\\xf3\\x9dXV,\\x88&\\x83\\x93\\xda\\xea\\xac\\xf50\\x03\\x89\\xe0f\\xa9\\xca\\xeb\\x07`\\xe5h\\xf1\\xf43\\xc0b/k\\xef\\xfb\\xa7\\x0fO|\\xe2\\x13k\\x02\\x89\\xee<(\\x9b7\\x02At\\xd3\\xaa\\xa2\\xdd9\\xaeIF\\x7f]\\x05\\xda\\x0fw\\x80\\x01\\xce\\x00\\xb3\\x04p\\xae\"\\x8c\\x13\\xc4u>L\"\\xc00\\xb9*\\xb5\\x9f\\xb4y\\xe9%\\x97V\\xd6N;\\xefTe\\xb8\\xbe\\xe0\\xee\\x99\\xaa\\x90\\x05IL4\\xa2\\nn\\xf9\\x84\\x10f\\x13\\x16!\\xa9\\x9by\\x909\\x91\\xf2+\\xdb\\xf3\\x15\\xe0\\x9b\\xc1\\xea\\xc8\\x8b\\x9b\\x9d71\\xa4(\\xec~\\xc2(Y\\x96!\\x10N0\\xc9w\\x8eP\\x94\\xa1\\xe5\\xca`z\\xca`\\x0e\\x01d\\xff-F\\x18\\xfa\\xcaO|\\xc0\\x0cx\\xbd\\xe6\\x06\\x9a\\xbb)\\xbc4?\\xf3\\x07\\xf9\\xbd5\\xdaGl\\x89\\x84\\x02D\\xc0-\\xd0\\xd7\\xcbB\\xce \\xf3\\x1b#\\xb2k\\xaf\\x9d\\x9e\\xa9\\x13\\x08\\xfcbY@\\xfb\\xd6\\xb1\\xf2\\xb6\\xf3\\xbc\\x12H\\x18\\xe9\\xdc\\x07\\xf5\\xe4cx\\x86\\xb4\\x86\\xb7:\\xc3\\x05\\x01s\\x0b\\x87\\x8e\\x85\\xd9\\x18\\xcfZ0\\x10\\xb8V\\x07\\x13\\xed\\x82\\x07>\\xdf\\xb4\\xcf>\\xfb\\x8e\\x83\\x03BV_\\x19Z\\x0e\\x04e\\xf4\\x84\\x0ex\\x0c\\x9d\\xb5\\xdd/\\xc3h\\x1b~\\xe0\\xd1\\xb2\\x17\\x88\\xb4\\x13\\xf7(\\xa8\\xc3\\x9dOJ\\xb9F#\\xc1f\\x1f\\xd7\\xbc\\x11\\x88\\xce\\xd2\\x1e\\x80\\xf1=\\xf4.+\\xb3\\xeehy\\x1e\\x87r1\\x18\\xa2sY\\x17R\\x8f\\xf6\\x1d\\xfe\\x7f\\x0e/t\\x98\\xa8\\r\\xcc\\xcd\\xc8g\\xe9\\xd2\\xfd\\xebs\\x7fywQ\\xbeo\\xb8\\xb0\\x980\\x92`\\xe0\\xea\\xe9 8mEh\\xe2\\x16\\xfc\\xd6\\xb7\\x00\\xc1\\xa8oM,s\\x13s\\x1e_\\xb8\\xeb\\x15\\x06N#\\xbe|\\xb0z\\xde\\x08D\\'\\xa2\\x81\\xae{\\xa8\\x95\\xd3\\xd6\\xc1h\\xaa{:L\\x08\\x8b\\xda\\xfa\\x14\\xf8\\xe0\\x07?Xg~;Zj(+\\xb0\\x9e\\x7f\\xde\\xf4zS\\x9e\\x9d\\xf3\\xd7qG\\x02?\\x0b\\xf2\\xc0\\t\\x1cp\\xe0\\x01\\xc3\\x8e\\x0f\\x9d\\xf6\\xf5q#\\x99QGa0\\x94\\x05\\xf88B\\x84o\\x89\\x84\\xa0\\xa30\\xea\\n\\xfeY\\x19\\x86\\x1b=\\xbe\\xc8\\x1de\\xe0\\x16\\xe1B\\xc3\\xa7>\\xf5)E\\xe6\\xcfj\\xefl\\rD\\\\\\x04\\xc4\\x7f\\xd3D\\x1d\\xc8\\xa8FGXR\\x02\\xaf\\x00\\xc9\\xcd\\xe8\\\\\\x80 A\\xbe8\\x81\\xa1\\x98\\xc2\\xba\\x12D]\\xc3s\\xc8\\xa1\\x87TYt\\xfc\\xac}%\\xc2\\x17\\xe6\"\\x08m\\xd0\\xf6\\x08\\x1a\\xe3\\tQ[\\t\\xf8\\xe8#\\x9c\\xacm\\x19Px\\x14@\\xd0\\x96\\xe0\\xc1\\xb9\\xe7\\x9d[\\x8b\\x9a\\xb14\\xfd\\xa3T\\xd6\\xe3\\xe2\\xfa\\xe6\\x8d\\x85 .\\x9aS\\xd4\\xb7\\x9f\\x10\\x1emV&B\\xca\\xbd\\x04U\\xcf5\\xb8\\r\\xcc\\x9b\\x8d\\'\\x937\\x01\\x17c\\xdd\\x8f \\t6\\xeeO\\xbb\\x84\\xb6\\xec\\x9e\\x87O\\x99tfH\\x1bePN\\xbb\\x04\\x13!\\xa1\\x8bp\\x82\\x17-Fc[l\\xb9\\xc58\\xea\\xfb\\x9f\\x97\\xfe\\x8f\\xaac\\x1f\\xec\\x821\\xa1\\xb5 ii\\x06\\xcc\\x1b\\x81`V:Lcu6LOL\\x91N\\x1e&\\xf5\\x8c\\xe7\\x9f\\x13\\x18#4Z\\xc7J\\xf2\\x84\\xce\\xae\\x11\\x1aI\\xc0a\\x1c\\x1c\\x84\\x92:a\\xb2\\xc1C\\xdc\\x8f2\\xea%\\xa6\\xa0\\xc7upa\\xa42vRf\\xfdK\\x9e\\xb9\\x0c!\\xbd\\xf9\\xcdo\\x96\\xac6\\xc5\\x1d\\xed\\x01\\xc2\\xb0m\\x890x\\x0103zV\\xd6\\xba\\x9f\\xff$\\x07\\xe6\\xd5\\xc4\\xf0\\x9f1\"\\xae!\\xd6\"XsE\\xf1\\xbd/y\\xc9K\\xca\\xf7s9|r\\x80k\\xe1\\x92\\x80\\xa0~\\xfb\\xed\\xb7\\xb5\\xf5\\xac\\xa5\\xa3\\xa5\\xc1# \\xb7e\\x95*C\\xf3\\rWY\\x0c\\x97\\x03\\xe0\\xc8L\\xbe2\\xba\\x9f\\xd0\\x95\\'\\x91q\\xa1)\\xd2v\\xdb\\x0f/x\\xc1\\x0b*\\xc92Xvo\\x9d\\xbe\\xbfr\\xd3_o\\x1a\\xf6\\xd8s\\xfaq\\xc0\\xbcqY\\x88L\\xe70\\x9d\\x0b\\x08\\xf3\\xf5\\xa6\\xbf\\x966\\xbc\\xe4\\xbelF\\x00\\xdc\\x15\\x17\\x00\\x12s\\x04V.+\\x02\\xe1\\xba2,%\\x08\\xc0\\xa5\\xf8\\xe4\\xd4a\\xd9\\xa8\\xd6\\xf2<?\\x11\\xd0\\xb3L\\x9f\\xfaU\\xa1\\xfd\\x10\\xba\\x80n`\\xc0m\\x01.\\xd3\\xe0!\\xc3`\\x82\\xf5\\xdc\\xe3\\xf9\\xcf\\x7f\\xfe\\xe8\\x0e\\xd5A[b\\x93\\x9d\\x96\\xe8\\xb3\\x8f\\x98+\\x03\\xf3F 4KG\\x03\\xbd\\x00h+a\\x11@\\xe2\\x84M\\n\\xfc\\xee\\xca{\\x96!|\\x9f\\xdd}\\xda\\x9e\\xe1j\\x98\\x95\\xb5-\\x9f\\x177\\xdf \\xfc\\x08\\r\\xde\\x85\\x0b\\xa7W\\x87\\xb5\\xad\\xad\\x94\\xcf\\xa4\\x93\\x800\\x9b\\x92\\x00\\xd6@\\xd8\\xf0$\\xce\\x88\\x7f\\x1e\\x0b\\x1bY\\x01m\\xf9\\x90\\x81r\\xe9\\x97\\xf2hz\\xe63\\x9fYelg\\x95\\x07o\\xca\\xcc+\\x97\\x15\\x0bA\\\\:\\x8fr\\xf9\\xf2\\x04\\xdc^P\\xb41\\xc1\\xd8\\xc4*\\xff7\\x12mS\\x8f\\xfb\\xb1k\\x04\\x18\\x82n\\xb6\\xf9f\\xb5\\xac\\x91\\xe5w\\xcc6y\\x0bC\\xfav\\x93\\xe7\\x8cq\\x98\\x0bBC?\\xc4&D\\xe9LT\\xed\\xd7\\x15\\xe4Y@\\x86\\xc6\\xee\\xebC\\xbe\\xa2\\xcd\\xdd\\xa2\\x1f\\xbd\\xb1\\xc2yc!6\\x15\\xdcq\\xfb\\xf4R\\x05\\xa2\\xb9\\x83h*&\\x84Q\\x19\\x8d\\xc8\\x03\\xf9<\\x13\\xf7b=\\x8bVG\\xb3u\\xd4r\\x85\\x15V\\xb0U\\xb3\\x04\\xf3\\x04\\x82\\xccG\\xf0s\\x0eC\\x94\\xd3\\x962\\x19Ue\\xe4\\x95\\xb6\\xc5\\x02\\x02b\\x15i\\x9fu\\x12\\xdc\\x07>\\xf0\\x01(j\\x87\\tke\\xd1q\\x8f\\xf2m\\x8a\\xc8d\\x92@L0Y{\\xe8\\x987\\x02\\xb1\\xc3C\\'\\x81\\x8e\\x99\\xc0\\xe9$\\xa0\\xe9\\x18\\x84\\x01\\t\\xe2\\xf2hj\\xe2\\x06\\x01\\x12\\x84\\xbch\\xb04\\xe6e\\xfd\\xcb\"\\xa3g\\xdd\\x1e\\xaf\\xaa\\x0f\\xf8s\\xd7\\x11\\xbekt\\xf4.T:CUu\\xfa!\\xf1\\xa2{V\\n|/\\xcb\\x8b8\\xd1~\\xb4\\x12\\x86\\x15\\xe1\\x0c2\\xfc\\x7f\\x16\\xa1\\xc6]\\xa2G;\\xe8\\x8c\\xc2\\xad\\x91@\\xd2\\x19\\x0cs\\xc4m 6\\xe9\\xe4an\\x1as\\xbf\\x87\\xe0\\xc1\\x14\\x84\\xa5\\xce\\xf2\\xe5\\x17\\xb7\\x99\\xf0\\xfe\\xe3\\xac[\\xbe\\x11\\x15\\xcd\\xc2x@@\\x84\\x93\\xcf\"}\\xe3\\x1b\\xdf\\xa8{\\xca\\x04/\\xc1\\x04\\xa7:6*\\x04zm\\xcfr\\xbd{\\xb1\\x14\\xf4\\xb0\\x0c\\xa0\\xad^ \\x94\\x05\\xd8c\\xb5\\xc9&\\xd3{\\xbc\\x16/Z\\\\\\xc2H_\\xf5\\x9bP\\x08#\\xbb\\xe6\\xb9F\\x83\\n\\x13B`\\x91\\xd1\\xe0\\x81%f\\xe9f\\x8dbH:\\x1c\\r\\xce\\xb9ZY\\xcd\\x8f\\x0e!\\x10(\\x8b\\x80hq\\x8a\\x13J:\\xc3\\xd7Fcs?Z\\t\\x17\\x88\\xa6\\x85\\x16\\x1f\\xec\\xf7\\xdd`\\xf8\\x93\\x97\\xbaqY\\\\\\x878\\x90\\xa5q\\xf7c\\rq#hP_\\xfb\\xd9\\x1db3\\x9c\\x11\\x9a\\xd5\\x00\\xa0\\r\\x8b\\x84\\x84\\xcd-\\x01[\\x8c|\\x8a01$\\xfb\\xc1\\xb8\\xcd\\x0cD\\xb8+x\\xbd\\x02\\x01|R\\xca\\xa6<e\\xb2\\xbc\\xb3F\\x02)l\\xed\\x07A\\x8e^ \\xfdu\\xca\\xd1\\xc0\\xb8#ZC\\xdbf\\x0b\\x04\\xa3W\\xde3b\\xe2O\\xd5\\xc9<\\x00CX\\x08\\xad\\x8d@\\x08\\x95\\x90\\xb2\\x92j\\x8e\\x81) A\\xd4\\xb5\\x11\\xd7\\x17\\xbe\\xf0\\x05\\x97\\xf5\\xee\\x88Q\\x0e\\xa1D\\xfb\\xd1E\\x00\\xe8\\x02\\x04\\xe2\\x99\\xbb`\\x1ffs)\\xda\\xcb\\x16\\x1f\\xed\\x10\\x8e\\xb2}`\\x97\\xce\\x90V\\xff\\xe0\\xb5\\xa5(\\xcah\\xeb\\x91\\xbd\\xc6\\xd9Nt\\xe2\\x0fO\\x1c\\xb6\\xd9v\\x9b\\x1a\\xba\\x8fV\\xda\\x18\\xba\\xc6\\xd0\\x1a\\xac\\xe7\\xcb\\xad\\xc1\\xf1\\xdc\\x18V\\xbb*\\x92\\x07ykl\\xdc\\xe5!\\x1f\\xa8\\xab\\xac#ym,_\\xef^H7\\x8d\\xadr\\xf9\\xf1\\xdc\\xbcYE\\x92\\x936\\xac\\xacz\\xbe\\xde\\x90\\xa3\\xf9\\xe6\\x19\\xcf\\xa8\\x93n\\x8c\\xaa/3h\\x0b\\xb4g\\x14\\xe3\\xce\\x0f\\xe96\\x18p*h\\xda<>[o\\n1q\\xf8\\xda\\xc3\\x1b\\xde\\xf0\\x86\\x11wS\\x8c\\xf1z\\xd7\\xf6\\xffT\\x8e&\\xcb\\xfa\\x93Jg\\x876\\xdb\\xdbQ\\x85\\xb3YF\\xed\\xa0o\\x03\\x8c\\t\\xfc=\\xb4%\\xa3\\xeaks\\x95\\xb5\\xeb\\x85\\x86\\xaf1`\\\\\\x1b\\xd6\\xcd\\xa8/\\xbd\\xba<e\\xc3x\\x15R7e\\xfb{\\xee7\\xcd-\\x01\\x10\\x82\\x83@\\xe4\\xe9\\x94#\\xca\\xa0,\\xb0A\\x01#\\x9a\\xf9\\xcfx\\xfd`q\\xfbLF\\xb3\\xda:\\xb2\\xc1\\x81\\xe0\\xd5\\xcf\\xd1\\x0b\\x9ap\\xe57k\\x9d\\xb4w\\x0f\\xebh#\\xb3\\x91\\xe1\\xcd\\xfa\\xc6\\xf7\\xcf\\x9bU\\xd5\\x0bA\\xcd\\r\\xd5}\\xed7\\xcb\\xa8\\xa3};\\xa5>\\xf7\\xe1\\xdd\\xf4\\xf4\\xdd&\\x0b \\xcf\\x11\\x05\\x91\\x17\\xbe\\xad\\x91\\xcbj\\xf5[\\xdb\\xf7>Z\\x8d\\xf9\\xcbk\\x9dq\\xba\\x8fKJ\\x9d\\x9cg\\x97Q/\\x01\\x95\\x9f\\xe5J\\xf2?Q\\xdc@\\x82w\\xcap{F6\\xe6\\x19@\\xa0U\\x86K\\xc8\\xc4\\x90o\\x16\\x1b\\x12\\x90\\xb9\\x17\\xeeH<\\xc8h\\xad\\xed\\xd1*\\x1f\\x9e?\\xea2\\x0c\\xe5\\x1a-\\xa54\\xab(\\xdc=\\xcd\\x95\\xd1~\\x0c\\x9fmLP\\x16h\\x83k3\\xcc\\x06h\\xd6\\x86\\x89h\\xdc\\x11\\x1a\\x95AW\\x0fh\\xcc`e\\xad\\x04\\xa2Q\\xc2\\xe8\\x05\\xd2\\xa4^B\\xe1O\\x81\\x98\\xd2\\xc7\\x0b\\xf7\\xe5\\xb9\\xdf4\\xa7\\xcaX\\xe9\\xcdPP\\x06\\xa67\\x8d\\x19\\xf3\\x08\\x07\\x8e\\xe0T\\xe6+_\\xf9\\xca\\xf0\\xa2\\x17\\xbdh\\x8c)f\\xc9\\x96@\\x0c=3\\xcc\\x85g\\xef\\xf6\\xd7\\x19\\xe7_0\\xfd\\x80J=\\xb1\\xc2\\xf033l\\x83\\x81\\xe9\\xef\\xf9N+\\xd2\\xf9\\xe7_PL\\xf5\\xa6U\\xe2\\nZ\\x04iq\\x05`\\xa8\\x01\\x02\\x9a<6\\x06\\x98\\xfa\\xedo\\x7f{|\\\\,M1\\xc4\\xa1\\x08\\x14\\x0e\\xb10\\xfc\\xa0\\x84\\x86\\xed\\x14$\\x93\\xda5\\x12HQ\\xd0~\\x08\\x04\\xf2\\x08D\\xc3\\x96\\x150=\\x9d\\xa1\\x15\\xd1\"\\xf5\\x08A\\x1dBQ\\x16\\xf8\\'\\x1d\\x7f\\xa9M{\\x80\\x0e#V\\xa7\\xc0u\\xd7_7\\xec\\xb2\\xf3.\\x853\\x16\\xa2c\\x11\\xa82\\x82\\xba`\\xe9\\xadVkD\\x80\\x00\\xd1\\x98a*\\xa1\\x0b\\xea46\\xcb\\xe4\\xaf~\\xf5\\xab\\xdb\\xf5\\x81\\xc31\\xc7\\xfc\\xdf\\xaa\\x93\\x976\\xf5%\\x8cs\\x03=h\\x06\\xee\\xb1\\x10x\\xb2<C!\\xe4\\xeb;\\xf0\\x11\\xe8\\x85\\x0fZX\\x13\\xbeXz\\x1e\\x137\\x17Ye\\xf0\\x05\\xce\\x8c e\\xce\\xb9@\\xa2\\x89E\\xc1\\xbf\\xf8\\xd1\\xe9\\x00f$M\\x08\\x04\\xcc\\x05\\xb0\\x16\\xa03:\\x96Q\\x96\\x91\\x18\\xc5\\xc0P\\x7f\\xdd\\x04\\x8c\\x84\\x8c\\xd8\\x08+`\\xd7\\t\\xb7\\xd53[\\xbdh:7\\xc4\\xfdh3\\xae\\x0e\\xe31\\xbb\\x17H\\xca\\xc8\\x07FS7\\xdfts\\xfdM\\x9e4\\xab_\\xd6\\x1etq\\x93Q\\x08\\xed\\xf4\\xca\\xaa\\\\O\\x87\\xf4\\x1a\\t$D\\xfc;.+\\xd6\\xa3\\xb1\\x7f\\x06\\x98\\x0f_ \\xda-\\x8d\\xf1\\xf0`B\\x98\\x82I\\xd2\\x99P\\x1d|\\xc8\\xc1\\x15?\\xb8\\x97(\\x81\\x85>\\x0c\\xc90\\x18N{\\xa4\\xf8\\xebXg4?}\\xd2\\x1e&q5\\x89E\\xf2\\xe0\\x8cuR\\n\\xab\\xc3\\xfe\\xa3\\xd7\\xabk`\\xc3\\x8d6\\xacsV\\x881\\xdeP\\x19\\xa4_\\xda\\xb7\\xbc\\x93y\\x90\\xbe\\xa4?U\\xb0\\xfd\\xac\\xd1L=\\x95g#\\x93\\x1fW5[\\xf2\\xa9\\xf3\\x8f\\xce\\xca\\xa7.\\xbc\\xd2:\\x000M\\xba\\xc7I#\\x17n\\xb5p\\xfc\\xb7\\x9f\\xbcJ\\xa6l\\x04\\xe0\\x1f;1\\xd5\\xbf\\xef\\x80h*AF pr\\x91\\x96\\xcf\\x81\\xcf\\xab[\\x9f\\x12#\\xe2j\\x9d\\xe3N\\x95\\xb1\\xb2,\\x1eX\\x86\\xc9\\xdc\\x04\\xad\\x1e\\xc5\\xc6\\x1d\\xb1fu\\xcc\\xcc3\\xf0\\xd0&a\\xa4\\x1fQ\\x068\\x03kd!\\xa9\\x0c!\\xcd\\xea\\xad ~\\xbd\\xcfK\\xf95=k\\x07\\xe8H\\x18)\\x86pO\\xd16L6\\xc2!\\x8ch6\\xa6\\xc8\\x8f\\x86\\xbe\\xf2\\x95\\xaf\\xac-7\\xdcR\\x84\\x96\\x85\\xbf(\\x03\\x0b\\xb3uH\\xbf\\xfcS\\x1c0(\\x10\\xfc#X\\x024+\\'<_(\\x05\\xfe\\xd1S\\xcc\\x10\\xeb\\x00\\x97\\xc5\\xaa\\xc2|y\\xfa!\\xe6\\xc4\\x82\\t\\x0f\\x8d=\\xac\\x95@\\x10\\xdd\\x9b:\\xc4}\\xd0\\x96\\xee\\t\\x92\\xfeg\\xd0\\xe3\\xea\\xad\\xaf\\x17H\\xeasE\\x86\\xc7FH@\\x19kF\\x96\\'\\xf22\\x0e+\\xb2l\\x91\\x11\\x1c-\\xa6\\xed\\xbem\\x92\\xcdj\\xda\\xa1<\\x04\\x01\\xd0\\x9b\\xf6\\xde\\xf6\\xb6\\xb7U\\x9e\\xf8\\xe4\\xa5\\x1dJ\\x00\\xa6\\xf7\\xfe\\xb6\\xbf\\xf5kK \\x8b\\xef\\xf9b\\x10\\xe6j?u-\\xa1\\x10\\x98tF}\\x89SI+\\x93\\xe7\\'\\x85\\xb8\\xfd\\xdc/\\x02\\xe9\\x99\\xd7_\\xa7\\x91\\x7f\\xe7\\x9c\\x8e\\xa4l\\x8f\\xa7\\x17TF5\\xb4\\xcc04[u\\xac;a\\x08\\xed\\xceH\\xc7z\\x93\\xff\\xcc\\n\\xb0(\\xf3\\rs\\x8c0\\xc7\\xa3Y\\xc1?\\x82\\xf5\\x7f\\x89\\xde\\x9e\\xbae\\xd5\\xcdM\\xcb\\xa7\\x1f\\xfdf\\t%x0\\x1f}\\x84K1\\x00\\x0b\\xe3\\xbeB\\x8f!\\xb8\\xb6\\xc5\\x9bX\\x01\\xda\\x95\\xbb\\xf2\\xaai\\xabZ\\xb2\\xdb\\xf4\\xde\\xde\\xe0u^#\\x81\\x84yaZ\\xce=\\xe2\\xff\\xdfkL\\xffWxfk\\x9bt/ \\xcc\\xc1\\xa4\\xc4\\x1e4\\x18\\xe7\\xf7\\x16\\xb2r\\xe5\\xcaz>\\x9e\\t\\x9c2\\xfe\\x8c8\\x9f^R\\xd7\\x83%~\\xdfh\\x0c\\xd0d\\xd6\\x11\\xb7\\x86\\xc1Fk\\xd6\\xdab\\x8d\\xf0\\xf6\\xf1A=\\xde\\x82\\xf5%>Q\\x02\\x02J?\\xddO\\\\S\\x1e\\xac\\xb5@ \\xef58\\xe9\\xe4\\xfd\\xbb.+B.\\xa2\\x1a\\xce\\xfe\\xec\\x1a>e\\x12\\x9b\\x08\\x02\\xf3\\xa2}\\xe6,\\xac&LP\\xc7H\\xcc\\xfd0@\\x9e\\x18\\x14\\xd7#\\x1d\\xc8\\x9c\\'3fu\\xc5\\x01\\xc0\\xea0\\x92\\xb0A,\\xd0(\\xaa\\xbfF\\xa3r@\\xbb\\xe1A\\xfaF0\\x89]\\xca\\xf4#1i\\xb0F\\x02\\x99\\xae\\xba\\xeew.8\\xb0n_\\xd6\\\\pu-p\\xae\\x13\\xc8Z0o.\\xaa\\xae\\x13\\xc8\\\\pu-p\\xae\\x13\\xc8Z0o.\\xaa\\xae\\x13\\xc8\\\\pu-p\\xae\\x13\\xc8Z0o.\\xaa\\xae\\x13\\xc8\\\\pu-p\\xae\\x13\\xc8Z0o.\\xaa\\xae\\x13\\xc8\\\\pu-p\\xae\\x13\\xc8Z0o.\\xaa\\xfe?\\xf2\\tV>\\xc8dZU\\x00\\x00\\x00\\x00IEND\\xaeB`\\x82'}"
            ]
          },
          "metadata": {
            "tags": []
          },
          "execution_count": 91
        }
      ]
    },
    {
      "cell_type": "code",
      "metadata": {
        "id": "wO43lX38uJnX",
        "colab_type": "code",
        "colab": {
          "base_uri": "https://localhost:8080/",
          "height": 68
        },
        "outputId": "7e246817-cfc9-47ea-ec16-305d237de9b9"
      },
      "source": [
        "!ls"
      ],
      "execution_count": 93,
      "outputs": [
        {
          "output_type": "stream",
          "text": [
            " adfexefe.zip\t\t sample_data\n",
            " captcha_predictor.png\t'Screen Shot 2020-05-02 at 7.38.20 PM.png'\n",
            " Images\t\t\t'Screen Shot 2020-05-02 at 7.47.14 PM.png'\n"
          ],
          "name": "stdout"
        }
      ]
    },
    {
      "cell_type": "code",
      "metadata": {
        "id": "1mmqO6US_Lwo",
        "colab_type": "code",
        "colab": {}
      },
      "source": [
        "import cv2\n",
        "\n",
        "img1 = cv2.imread('/content/Screen Shot 2020-05-02 at 7.38.20 PM.png')\n",
        "img2 = cv2.imread('/content/Screen Shot 2020-05-02 at 7.47.14 PM.png')"
      ],
      "execution_count": 0,
      "outputs": []
    },
    {
      "cell_type": "code",
      "metadata": {
        "id": "xYbf8dWmujXA",
        "colab_type": "code",
        "colab": {
          "base_uri": "https://localhost:8080/",
          "height": 285
        },
        "outputId": "ff204d6a-32b5-43da-e484-3f2490cdc11b"
      },
      "source": [
        "import matplotlib.pyplot as plt\n",
        "plt.imshow(img1)"
      ],
      "execution_count": 117,
      "outputs": [
        {
          "output_type": "execute_result",
          "data": {
            "text/plain": [
              "<matplotlib.image.AxesImage at 0x7fce7951b0b8>"
            ]
          },
          "metadata": {
            "tags": []
          },
          "execution_count": 117
        },
        {
          "output_type": "display_data",
          "data": {
            "image/png": "[encoded data removed]",
            "text/plain": [
              "<Figure size 432x288 with 1 Axes>"
            ]
          },
          "metadata": {
            "tags": [],
            "needs_background": "light"
          }
        }
      ]
    },
    {
      "cell_type": "code",
      "metadata": {
        "id": "el5gKlVE3odX",
        "colab_type": "code",
        "colab": {
          "base_uri": "https://localhost:8080/",
          "height": 286
        },
        "outputId": "f3ca6d5f-74ef-4553-a4f2-ffe526f9204f"
      },
      "source": [
        "plt.imshow(resized1)"
      ],
      "execution_count": 123,
      "outputs": [
        {
          "output_type": "execute_result",
          "data": {
            "text/plain": [
              "<matplotlib.image.AxesImage at 0x7fce8ac402e8>"
            ]
          },
          "metadata": {
            "tags": []
          },
          "execution_count": 123
        },
        {
          "output_type": "display_data",
          "data": {
            "image/png": "[encoded data removed]",
            "text/plain": [
              "<Figure size 432x288 with 1 Axes>"
            ]
          },
          "metadata": {
            "tags": [],
            "needs_background": "light"
          }
        }
      ]
    },
    {
      "cell_type": "code",
      "metadata": {
        "id": "xQOvWHoIvB2m",
        "colab_type": "code",
        "colab": {}
      },
      "source": [
        "scale_percent = 200 # percent of original size\n",
        "width = int(img.shape[1] * scale_percent / 100)\n",
        "height = int(img.shape[0] * scale_percent / 100)\n",
        "dim = (width, height)\n",
        "# resize image\n",
        "resized1 = cv2.resize(img1, dim, interpolation = cv2.INTER_AREA)\n",
        "\n",
        "x = image.img_to_array(resized1)\n",
        "x = np.expand_dims(x, axis=0)\n",
        "\n",
        "images1 = np.vstack([x])"
      ],
      "execution_count": 0,
      "outputs": []
    },
    {
      "cell_type": "code",
      "metadata": {
        "id": "wNwLuaGjvEzp",
        "colab_type": "code",
        "colab": {
          "base_uri": "https://localhost:8080/",
          "height": 119
        },
        "outputId": "f30257b0-3ae3-4e5d-dcee-89d0988f6f60"
      },
      "source": [
        "model.predict(images1)"
      ],
      "execution_count": 124,
      "outputs": [
        {
          "output_type": "execute_result",
          "data": {
            "text/plain": [
              "array([[0., 0., 0., 0., 0., 0., 0., 0., 0., 0., 0., 0., 0., 0., 0., 0.,\n",
              "        0., 0., 0., 0., 0., 0., 0., 0., 0., 0., 0., 0., 0., 0., 0., 0.,\n",
              "        0., 0., 0., 0., 0., 0., 0., 0., 0., 0., 0., 0., 0., 0., 0., 0.,\n",
              "        0., 0., 0., 0., 0., 0., 0., 0., 0., 0., 0., 0., 0., 0., 0., 0.,\n",
              "        0., 0., 0., 0., 0., 0., 1., 0., 0., 0., 0., 0., 0., 0., 0., 0.,\n",
              "        0., 0., 0., 0.]], dtype=float32)"
            ]
          },
          "metadata": {
            "tags": []
          },
          "execution_count": 124
        }
      ]
    },
    {
      "cell_type": "code",
      "metadata": {
        "id": "9pw157mPvgPX",
        "colab_type": "code",
        "colab": {}
      },
      "source": [
        "x = image.img_to_array(img2)\n",
        "x = np.expand_dims(x, axis=0)\n",
        "\n",
        "images2 = np.vstack([x])"
      ],
      "execution_count": 0,
      "outputs": []
    }
  ]
}